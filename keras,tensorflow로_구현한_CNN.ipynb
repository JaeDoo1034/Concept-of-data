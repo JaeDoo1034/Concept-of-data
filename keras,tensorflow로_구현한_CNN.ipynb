{
  "nbformat": 4,
  "nbformat_minor": 0,
  "metadata": {
    "kernelspec": {
      "display_name": "Python 3",
      "language": "python",
      "name": "python3"
    },
    "language_info": {
      "codemirror_mode": {
        "name": "ipython",
        "version": 3
      },
      "file_extension": ".py",
      "mimetype": "text/x-python",
      "name": "python",
      "nbconvert_exporter": "python",
      "pygments_lexer": "ipython3",
      "version": "3.7.4"
    },
    "colab": {
      "name": "keras,tensorflow로 구현한 CNN.ipynb",
      "provenance": [],
      "include_colab_link": true
    },
    "accelerator": "GPU"
  },
  "cells": [
    {
      "cell_type": "markdown",
      "metadata": {
        "id": "view-in-github",
        "colab_type": "text"
      },
      "source": [
        "<a href=\"https://colab.research.google.com/github/JaeDoo1034/Concept-of-data/blob/master/keras%2Ctensorflow%EB%A1%9C_%EA%B5%AC%ED%98%84%ED%95%9C_CNN.ipynb\" target=\"_parent\"><img src=\"https://colab.research.google.com/assets/colab-badge.svg\" alt=\"Open In Colab\"/></a>"
      ]
    },
    {
      "cell_type": "markdown",
      "metadata": {
        "id": "jeY-fkkoPzsn",
        "colab_type": "text"
      },
      "source": [
        "### Keras 와 Tensorflow로 구현한 CNN\n",
        "\n",
        "- CNN을 통해 글자에 가려진(노이즈가 있는) 숫자를 예측하기 위한 모델을 설계해 보았다.\\\n",
        "  (MNIST 데이터위에 필기체인 글씨가 겹쳐져 있는 데이터)\n",
        "\n",
        "- train.csv : 훈련 데이터 2048개\n",
        "- test.csv : 검증 데이터 20480개"
      ]
    },
    {
      "cell_type": "code",
      "metadata": {
        "id": "PPDoDkBdQAxB",
        "colab_type": "code",
        "colab": {
          "base_uri": "https://localhost:8080/",
          "height": 87
        },
        "outputId": "9c6f869f-518d-4b27-fbd7-dd590a3cd295"
      },
      "source": [
        "!pip install -q tensorflow-gpu==2.0.0-rc1"
      ],
      "execution_count": 1,
      "outputs": [
        {
          "output_type": "stream",
          "text": [
            "\u001b[K     |████████████████████████████████| 380.5MB 44kB/s \n",
            "\u001b[K     |████████████████████████████████| 501kB 55.6MB/s \n",
            "\u001b[K     |████████████████████████████████| 4.3MB 52.0MB/s \n",
            "\u001b[K     |████████████████████████████████| 51kB 8.7MB/s \n",
            "\u001b[?25h"
          ],
          "name": "stdout"
        }
      ]
    },
    {
      "cell_type": "code",
      "metadata": {
        "id": "RVnDqQbCPzsp",
        "colab_type": "code",
        "colab": {
          "base_uri": "https://localhost:8080/",
          "height": 52
        },
        "outputId": "7955c6cb-baf1-412f-d5a5-34e3c2650bb5"
      },
      "source": [
        "import numpy as np\n",
        "import pandas as pd\n",
        "import seaborn as sns\n",
        "import matplotlib.pyplot as plt\n",
        "%matplotlib inline\n",
        "import matplotlib\n",
        "from matplotlib import font_manager, rc\n",
        "import platform\n",
        "\n",
        "\n",
        "try : \n",
        "    if platform.system() == 'Windows':\n",
        "    # 윈도우인 경우\n",
        "        font_name = font_manager.FontProperties(fname=\"c:/Windows/Fonts/malgun.ttf\").get_name()\n",
        "        rc('font', family=font_name)\n",
        "    else:    \n",
        "    # Mac 인 경우\n",
        "        rc('font', family='AppleGothic')\n",
        "except : \n",
        "    pass\n",
        "matplotlib.rcParams['axes.unicode_minus'] = False   "
      ],
      "execution_count": 2,
      "outputs": [
        {
          "output_type": "stream",
          "text": [
            "/usr/local/lib/python3.6/dist-packages/statsmodels/tools/_testing.py:19: FutureWarning: pandas.util.testing is deprecated. Use the functions in the public API at pandas.testing instead.\n",
            "  import pandas.util.testing as tm\n"
          ],
          "name": "stderr"
        }
      ]
    },
    {
      "cell_type": "markdown",
      "metadata": {
        "id": "FWIsjRrWPzsw",
        "colab_type": "text"
      },
      "source": [
        "#### 데이터 불러오기"
      ]
    },
    {
      "cell_type": "code",
      "metadata": {
        "id": "7rToWmNLTRTd",
        "colab_type": "code",
        "colab": {}
      },
      "source": [
        "import io"
      ],
      "execution_count": 11,
      "outputs": []
    },
    {
      "cell_type": "code",
      "metadata": {
        "id": "3w6GkG9rRGQ8",
        "colab_type": "code",
        "colab": {
          "resources": {
            "http://localhost:8080/nbextensions/google.colab/files.js": {
              "data": "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",
              "ok": true,
              "headers": [
                [
                  "content-type",
                  "application/javascript"
                ]
              ],
              "status": 200,
              "status_text": ""
            }
          },
          "base_uri": "https://localhost:8080/",
          "height": 110
        },
        "outputId": "4ab7c54c-4fad-4c45-8961-1341b8638228"
      },
      "source": [
        "from google.colab import files\n",
        "uploaded = files.upload()"
      ],
      "execution_count": 9,
      "outputs": [
        {
          "output_type": "display_data",
          "data": {
            "text/html": [
              "\n",
              "     <input type=\"file\" id=\"files-532d8b5b-b428-46e5-8688-91590f66b7c6\" name=\"files[]\" multiple disabled\n",
              "        style=\"border:none\" />\n",
              "     <output id=\"result-532d8b5b-b428-46e5-8688-91590f66b7c6\">\n",
              "      Upload widget is only available when the cell has been executed in the\n",
              "      current browser session. Please rerun this cell to enable.\n",
              "      </output>\n",
              "      <script src=\"/nbextensions/google.colab/files.js\"></script> "
            ],
            "text/plain": [
              "<IPython.core.display.HTML object>"
            ]
          },
          "metadata": {
            "tags": []
          }
        },
        {
          "output_type": "stream",
          "text": [
            "Saving test.csv to test.csv\n",
            "Saving train.csv to train.csv\n"
          ],
          "name": "stdout"
        }
      ]
    },
    {
      "cell_type": "code",
      "metadata": {
        "scrolled": true,
        "id": "bJmDcoVgPzsx",
        "colab_type": "code",
        "colab": {
          "base_uri": "https://localhost:8080/",
          "height": 244
        },
        "outputId": "0992c22f-5095-49b3-db69-86c4e5094f71"
      },
      "source": [
        "train = pd.read_csv(io.BytesIO(uploaded['train.csv']))\n",
        "train.head()"
      ],
      "execution_count": 12,
      "outputs": [
        {
          "output_type": "execute_result",
          "data": {
            "text/html": [
              "<div>\n",
              "<style scoped>\n",
              "    .dataframe tbody tr th:only-of-type {\n",
              "        vertical-align: middle;\n",
              "    }\n",
              "\n",
              "    .dataframe tbody tr th {\n",
              "        vertical-align: top;\n",
              "    }\n",
              "\n",
              "    .dataframe thead th {\n",
              "        text-align: right;\n",
              "    }\n",
              "</style>\n",
              "<table border=\"1\" class=\"dataframe\">\n",
              "  <thead>\n",
              "    <tr style=\"text-align: right;\">\n",
              "      <th></th>\n",
              "      <th>id</th>\n",
              "      <th>digit</th>\n",
              "      <th>letter</th>\n",
              "      <th>0</th>\n",
              "      <th>1</th>\n",
              "      <th>2</th>\n",
              "      <th>3</th>\n",
              "      <th>4</th>\n",
              "      <th>5</th>\n",
              "      <th>6</th>\n",
              "      <th>7</th>\n",
              "      <th>8</th>\n",
              "      <th>9</th>\n",
              "      <th>10</th>\n",
              "      <th>11</th>\n",
              "      <th>12</th>\n",
              "      <th>13</th>\n",
              "      <th>14</th>\n",
              "      <th>15</th>\n",
              "      <th>16</th>\n",
              "      <th>17</th>\n",
              "      <th>18</th>\n",
              "      <th>19</th>\n",
              "      <th>20</th>\n",
              "      <th>21</th>\n",
              "      <th>22</th>\n",
              "      <th>23</th>\n",
              "      <th>24</th>\n",
              "      <th>25</th>\n",
              "      <th>26</th>\n",
              "      <th>27</th>\n",
              "      <th>28</th>\n",
              "      <th>29</th>\n",
              "      <th>30</th>\n",
              "      <th>31</th>\n",
              "      <th>32</th>\n",
              "      <th>33</th>\n",
              "      <th>34</th>\n",
              "      <th>35</th>\n",
              "      <th>36</th>\n",
              "      <th>...</th>\n",
              "      <th>744</th>\n",
              "      <th>745</th>\n",
              "      <th>746</th>\n",
              "      <th>747</th>\n",
              "      <th>748</th>\n",
              "      <th>749</th>\n",
              "      <th>750</th>\n",
              "      <th>751</th>\n",
              "      <th>752</th>\n",
              "      <th>753</th>\n",
              "      <th>754</th>\n",
              "      <th>755</th>\n",
              "      <th>756</th>\n",
              "      <th>757</th>\n",
              "      <th>758</th>\n",
              "      <th>759</th>\n",
              "      <th>760</th>\n",
              "      <th>761</th>\n",
              "      <th>762</th>\n",
              "      <th>763</th>\n",
              "      <th>764</th>\n",
              "      <th>765</th>\n",
              "      <th>766</th>\n",
              "      <th>767</th>\n",
              "      <th>768</th>\n",
              "      <th>769</th>\n",
              "      <th>770</th>\n",
              "      <th>771</th>\n",
              "      <th>772</th>\n",
              "      <th>773</th>\n",
              "      <th>774</th>\n",
              "      <th>775</th>\n",
              "      <th>776</th>\n",
              "      <th>777</th>\n",
              "      <th>778</th>\n",
              "      <th>779</th>\n",
              "      <th>780</th>\n",
              "      <th>781</th>\n",
              "      <th>782</th>\n",
              "      <th>783</th>\n",
              "    </tr>\n",
              "  </thead>\n",
              "  <tbody>\n",
              "    <tr>\n",
              "      <th>0</th>\n",
              "      <td>1</td>\n",
              "      <td>5</td>\n",
              "      <td>L</td>\n",
              "      <td>1</td>\n",
              "      <td>1</td>\n",
              "      <td>1</td>\n",
              "      <td>4</td>\n",
              "      <td>3</td>\n",
              "      <td>0</td>\n",
              "      <td>0</td>\n",
              "      <td>4</td>\n",
              "      <td>4</td>\n",
              "      <td>3</td>\n",
              "      <td>0</td>\n",
              "      <td>4</td>\n",
              "      <td>3</td>\n",
              "      <td>3</td>\n",
              "      <td>3</td>\n",
              "      <td>4</td>\n",
              "      <td>4</td>\n",
              "      <td>0</td>\n",
              "      <td>0</td>\n",
              "      <td>1</td>\n",
              "      <td>1</td>\n",
              "      <td>3</td>\n",
              "      <td>4</td>\n",
              "      <td>0</td>\n",
              "      <td>4</td>\n",
              "      <td>2</td>\n",
              "      <td>0</td>\n",
              "      <td>4</td>\n",
              "      <td>0</td>\n",
              "      <td>1</td>\n",
              "      <td>3</td>\n",
              "      <td>1</td>\n",
              "      <td>0</td>\n",
              "      <td>4</td>\n",
              "      <td>1</td>\n",
              "      <td>1</td>\n",
              "      <td>3</td>\n",
              "      <td>...</td>\n",
              "      <td>4</td>\n",
              "      <td>3</td>\n",
              "      <td>4</td>\n",
              "      <td>1</td>\n",
              "      <td>3</td>\n",
              "      <td>0</td>\n",
              "      <td>0</td>\n",
              "      <td>1</td>\n",
              "      <td>3</td>\n",
              "      <td>3</td>\n",
              "      <td>3</td>\n",
              "      <td>0</td>\n",
              "      <td>3</td>\n",
              "      <td>2</td>\n",
              "      <td>2</td>\n",
              "      <td>1</td>\n",
              "      <td>0</td>\n",
              "      <td>1</td>\n",
              "      <td>0</td>\n",
              "      <td>0</td>\n",
              "      <td>3</td>\n",
              "      <td>0</td>\n",
              "      <td>0</td>\n",
              "      <td>4</td>\n",
              "      <td>2</td>\n",
              "      <td>0</td>\n",
              "      <td>3</td>\n",
              "      <td>4</td>\n",
              "      <td>1</td>\n",
              "      <td>1</td>\n",
              "      <td>2</td>\n",
              "      <td>1</td>\n",
              "      <td>0</td>\n",
              "      <td>1</td>\n",
              "      <td>2</td>\n",
              "      <td>4</td>\n",
              "      <td>4</td>\n",
              "      <td>4</td>\n",
              "      <td>3</td>\n",
              "      <td>4</td>\n",
              "    </tr>\n",
              "    <tr>\n",
              "      <th>1</th>\n",
              "      <td>2</td>\n",
              "      <td>0</td>\n",
              "      <td>B</td>\n",
              "      <td>0</td>\n",
              "      <td>4</td>\n",
              "      <td>0</td>\n",
              "      <td>0</td>\n",
              "      <td>4</td>\n",
              "      <td>1</td>\n",
              "      <td>1</td>\n",
              "      <td>1</td>\n",
              "      <td>4</td>\n",
              "      <td>2</td>\n",
              "      <td>0</td>\n",
              "      <td>3</td>\n",
              "      <td>4</td>\n",
              "      <td>0</td>\n",
              "      <td>0</td>\n",
              "      <td>2</td>\n",
              "      <td>3</td>\n",
              "      <td>4</td>\n",
              "      <td>0</td>\n",
              "      <td>3</td>\n",
              "      <td>4</td>\n",
              "      <td>3</td>\n",
              "      <td>0</td>\n",
              "      <td>2</td>\n",
              "      <td>2</td>\n",
              "      <td>1</td>\n",
              "      <td>4</td>\n",
              "      <td>2</td>\n",
              "      <td>3</td>\n",
              "      <td>3</td>\n",
              "      <td>4</td>\n",
              "      <td>1</td>\n",
              "      <td>2</td>\n",
              "      <td>4</td>\n",
              "      <td>2</td>\n",
              "      <td>0</td>\n",
              "      <td>3</td>\n",
              "      <td>...</td>\n",
              "      <td>4</td>\n",
              "      <td>2</td>\n",
              "      <td>3</td>\n",
              "      <td>0</td>\n",
              "      <td>0</td>\n",
              "      <td>0</td>\n",
              "      <td>0</td>\n",
              "      <td>4</td>\n",
              "      <td>3</td>\n",
              "      <td>2</td>\n",
              "      <td>2</td>\n",
              "      <td>4</td>\n",
              "      <td>2</td>\n",
              "      <td>1</td>\n",
              "      <td>1</td>\n",
              "      <td>1</td>\n",
              "      <td>3</td>\n",
              "      <td>3</td>\n",
              "      <td>1</td>\n",
              "      <td>2</td>\n",
              "      <td>4</td>\n",
              "      <td>4</td>\n",
              "      <td>4</td>\n",
              "      <td>2</td>\n",
              "      <td>2</td>\n",
              "      <td>4</td>\n",
              "      <td>4</td>\n",
              "      <td>0</td>\n",
              "      <td>4</td>\n",
              "      <td>2</td>\n",
              "      <td>0</td>\n",
              "      <td>3</td>\n",
              "      <td>0</td>\n",
              "      <td>1</td>\n",
              "      <td>4</td>\n",
              "      <td>1</td>\n",
              "      <td>4</td>\n",
              "      <td>2</td>\n",
              "      <td>1</td>\n",
              "      <td>2</td>\n",
              "    </tr>\n",
              "    <tr>\n",
              "      <th>2</th>\n",
              "      <td>3</td>\n",
              "      <td>4</td>\n",
              "      <td>L</td>\n",
              "      <td>1</td>\n",
              "      <td>1</td>\n",
              "      <td>2</td>\n",
              "      <td>2</td>\n",
              "      <td>1</td>\n",
              "      <td>1</td>\n",
              "      <td>1</td>\n",
              "      <td>0</td>\n",
              "      <td>2</td>\n",
              "      <td>1</td>\n",
              "      <td>3</td>\n",
              "      <td>2</td>\n",
              "      <td>2</td>\n",
              "      <td>2</td>\n",
              "      <td>4</td>\n",
              "      <td>1</td>\n",
              "      <td>1</td>\n",
              "      <td>4</td>\n",
              "      <td>1</td>\n",
              "      <td>0</td>\n",
              "      <td>1</td>\n",
              "      <td>3</td>\n",
              "      <td>4</td>\n",
              "      <td>2</td>\n",
              "      <td>2</td>\n",
              "      <td>2</td>\n",
              "      <td>4</td>\n",
              "      <td>1</td>\n",
              "      <td>1</td>\n",
              "      <td>2</td>\n",
              "      <td>0</td>\n",
              "      <td>3</td>\n",
              "      <td>0</td>\n",
              "      <td>2</td>\n",
              "      <td>3</td>\n",
              "      <td>4</td>\n",
              "      <td>0</td>\n",
              "      <td>...</td>\n",
              "      <td>3</td>\n",
              "      <td>0</td>\n",
              "      <td>4</td>\n",
              "      <td>0</td>\n",
              "      <td>3</td>\n",
              "      <td>0</td>\n",
              "      <td>2</td>\n",
              "      <td>0</td>\n",
              "      <td>1</td>\n",
              "      <td>4</td>\n",
              "      <td>2</td>\n",
              "      <td>3</td>\n",
              "      <td>4</td>\n",
              "      <td>4</td>\n",
              "      <td>4</td>\n",
              "      <td>0</td>\n",
              "      <td>2</td>\n",
              "      <td>0</td>\n",
              "      <td>4</td>\n",
              "      <td>4</td>\n",
              "      <td>1</td>\n",
              "      <td>3</td>\n",
              "      <td>0</td>\n",
              "      <td>3</td>\n",
              "      <td>2</td>\n",
              "      <td>0</td>\n",
              "      <td>2</td>\n",
              "      <td>3</td>\n",
              "      <td>0</td>\n",
              "      <td>2</td>\n",
              "      <td>3</td>\n",
              "      <td>3</td>\n",
              "      <td>3</td>\n",
              "      <td>0</td>\n",
              "      <td>2</td>\n",
              "      <td>0</td>\n",
              "      <td>3</td>\n",
              "      <td>0</td>\n",
              "      <td>2</td>\n",
              "      <td>2</td>\n",
              "    </tr>\n",
              "    <tr>\n",
              "      <th>3</th>\n",
              "      <td>4</td>\n",
              "      <td>9</td>\n",
              "      <td>D</td>\n",
              "      <td>1</td>\n",
              "      <td>2</td>\n",
              "      <td>0</td>\n",
              "      <td>2</td>\n",
              "      <td>0</td>\n",
              "      <td>4</td>\n",
              "      <td>0</td>\n",
              "      <td>3</td>\n",
              "      <td>4</td>\n",
              "      <td>3</td>\n",
              "      <td>1</td>\n",
              "      <td>0</td>\n",
              "      <td>3</td>\n",
              "      <td>2</td>\n",
              "      <td>2</td>\n",
              "      <td>0</td>\n",
              "      <td>3</td>\n",
              "      <td>4</td>\n",
              "      <td>1</td>\n",
              "      <td>0</td>\n",
              "      <td>4</td>\n",
              "      <td>1</td>\n",
              "      <td>2</td>\n",
              "      <td>2</td>\n",
              "      <td>3</td>\n",
              "      <td>2</td>\n",
              "      <td>2</td>\n",
              "      <td>0</td>\n",
              "      <td>2</td>\n",
              "      <td>0</td>\n",
              "      <td>3</td>\n",
              "      <td>0</td>\n",
              "      <td>3</td>\n",
              "      <td>2</td>\n",
              "      <td>4</td>\n",
              "      <td>0</td>\n",
              "      <td>0</td>\n",
              "      <td>...</td>\n",
              "      <td>0</td>\n",
              "      <td>3</td>\n",
              "      <td>0</td>\n",
              "      <td>1</td>\n",
              "      <td>4</td>\n",
              "      <td>1</td>\n",
              "      <td>3</td>\n",
              "      <td>1</td>\n",
              "      <td>2</td>\n",
              "      <td>1</td>\n",
              "      <td>1</td>\n",
              "      <td>1</td>\n",
              "      <td>2</td>\n",
              "      <td>2</td>\n",
              "      <td>2</td>\n",
              "      <td>4</td>\n",
              "      <td>3</td>\n",
              "      <td>4</td>\n",
              "      <td>3</td>\n",
              "      <td>0</td>\n",
              "      <td>4</td>\n",
              "      <td>1</td>\n",
              "      <td>2</td>\n",
              "      <td>4</td>\n",
              "      <td>1</td>\n",
              "      <td>4</td>\n",
              "      <td>0</td>\n",
              "      <td>1</td>\n",
              "      <td>0</td>\n",
              "      <td>4</td>\n",
              "      <td>3</td>\n",
              "      <td>3</td>\n",
              "      <td>2</td>\n",
              "      <td>0</td>\n",
              "      <td>1</td>\n",
              "      <td>4</td>\n",
              "      <td>0</td>\n",
              "      <td>0</td>\n",
              "      <td>1</td>\n",
              "      <td>1</td>\n",
              "    </tr>\n",
              "    <tr>\n",
              "      <th>4</th>\n",
              "      <td>5</td>\n",
              "      <td>6</td>\n",
              "      <td>A</td>\n",
              "      <td>3</td>\n",
              "      <td>0</td>\n",
              "      <td>2</td>\n",
              "      <td>4</td>\n",
              "      <td>0</td>\n",
              "      <td>3</td>\n",
              "      <td>0</td>\n",
              "      <td>4</td>\n",
              "      <td>2</td>\n",
              "      <td>4</td>\n",
              "      <td>2</td>\n",
              "      <td>1</td>\n",
              "      <td>4</td>\n",
              "      <td>1</td>\n",
              "      <td>1</td>\n",
              "      <td>4</td>\n",
              "      <td>4</td>\n",
              "      <td>0</td>\n",
              "      <td>2</td>\n",
              "      <td>3</td>\n",
              "      <td>4</td>\n",
              "      <td>4</td>\n",
              "      <td>3</td>\n",
              "      <td>3</td>\n",
              "      <td>3</td>\n",
              "      <td>3</td>\n",
              "      <td>4</td>\n",
              "      <td>1</td>\n",
              "      <td>0</td>\n",
              "      <td>3</td>\n",
              "      <td>0</td>\n",
              "      <td>3</td>\n",
              "      <td>0</td>\n",
              "      <td>0</td>\n",
              "      <td>0</td>\n",
              "      <td>1</td>\n",
              "      <td>1</td>\n",
              "      <td>...</td>\n",
              "      <td>2</td>\n",
              "      <td>1</td>\n",
              "      <td>3</td>\n",
              "      <td>2</td>\n",
              "      <td>1</td>\n",
              "      <td>4</td>\n",
              "      <td>2</td>\n",
              "      <td>3</td>\n",
              "      <td>2</td>\n",
              "      <td>2</td>\n",
              "      <td>1</td>\n",
              "      <td>0</td>\n",
              "      <td>4</td>\n",
              "      <td>2</td>\n",
              "      <td>2</td>\n",
              "      <td>1</td>\n",
              "      <td>2</td>\n",
              "      <td>1</td>\n",
              "      <td>0</td>\n",
              "      <td>3</td>\n",
              "      <td>2</td>\n",
              "      <td>2</td>\n",
              "      <td>2</td>\n",
              "      <td>2</td>\n",
              "      <td>1</td>\n",
              "      <td>4</td>\n",
              "      <td>2</td>\n",
              "      <td>1</td>\n",
              "      <td>2</td>\n",
              "      <td>1</td>\n",
              "      <td>4</td>\n",
              "      <td>4</td>\n",
              "      <td>3</td>\n",
              "      <td>2</td>\n",
              "      <td>1</td>\n",
              "      <td>3</td>\n",
              "      <td>4</td>\n",
              "      <td>3</td>\n",
              "      <td>1</td>\n",
              "      <td>2</td>\n",
              "    </tr>\n",
              "  </tbody>\n",
              "</table>\n",
              "<p>5 rows × 787 columns</p>\n",
              "</div>"
            ],
            "text/plain": [
              "   id  digit letter  0  1  2  3  4  ...  776  777  778  779  780  781  782  783\n",
              "0   1      5      L  1  1  1  4  3  ...    0    1    2    4    4    4    3    4\n",
              "1   2      0      B  0  4  0  0  4  ...    0    1    4    1    4    2    1    2\n",
              "2   3      4      L  1  1  2  2  1  ...    3    0    2    0    3    0    2    2\n",
              "3   4      9      D  1  2  0  2  0  ...    2    0    1    4    0    0    1    1\n",
              "4   5      6      A  3  0  2  4  0  ...    3    2    1    3    4    3    1    2\n",
              "\n",
              "[5 rows x 787 columns]"
            ]
          },
          "metadata": {
            "tags": []
          },
          "execution_count": 12
        }
      ]
    },
    {
      "cell_type": "markdown",
      "metadata": {
        "id": "GPxbiYCrPzs3",
        "colab_type": "text"
      },
      "source": [
        "#### 데이터는 28*28의 2차원 이미지의 형태"
      ]
    },
    {
      "cell_type": "code",
      "metadata": {
        "scrolled": true,
        "id": "aeIzi7sAPzs4",
        "colab_type": "code",
        "colab": {
          "base_uri": "https://localhost:8080/",
          "height": 34
        },
        "outputId": "5aa1741f-25a1-47f0-bbc7-d6f9db063833"
      },
      "source": [
        "#28*28 의 형태\n",
        "train.shape"
      ],
      "execution_count": 13,
      "outputs": [
        {
          "output_type": "execute_result",
          "data": {
            "text/plain": [
              "(2048, 787)"
            ]
          },
          "metadata": {
            "tags": []
          },
          "execution_count": 13
        }
      ]
    },
    {
      "cell_type": "markdown",
      "metadata": {
        "id": "JI_dnmeePzs9",
        "colab_type": "text"
      },
      "source": [
        "target의 category / 가리고 있는 글자의 category"
      ]
    },
    {
      "cell_type": "code",
      "metadata": {
        "scrolled": true,
        "id": "VVMWA4j9Pzs-",
        "colab_type": "code",
        "colab": {
          "base_uri": "https://localhost:8080/",
          "height": 70
        },
        "outputId": "26808afb-7558-412a-bedb-19bc02aaf2b5"
      },
      "source": [
        "#고유값들 뽑아내기\n",
        "label1=train['letter'].unique()\n",
        "label2=train['digit'].unique()\n",
        "print(\"letter:\",np.sort(label1))\n",
        "print(\"digit:\",np.sort(label2))"
      ],
      "execution_count": 14,
      "outputs": [
        {
          "output_type": "stream",
          "text": [
            "letter: ['A' 'B' 'C' 'D' 'E' 'F' 'G' 'H' 'I' 'J' 'K' 'L' 'M' 'N' 'O' 'P' 'Q' 'R'\n",
            " 'S' 'T' 'U' 'V' 'W' 'X' 'Y' 'Z']\n",
            "digit: [0 1 2 3 4 5 6 7 8 9]\n"
          ],
          "name": "stdout"
        }
      ]
    },
    {
      "cell_type": "markdown",
      "metadata": {
        "id": "AQVPV-3yPztC",
        "colab_type": "text"
      },
      "source": [
        "#### CNN 모델에 이미지를 넣기 위해서는 3차원의 형태로 변환을 해 주어야 한다.\n",
        "- 여기서 초기 이미지는 28*28의 형태이므로\\\n",
        "  (데이터 수, 28, 28)의 형태로 변환한다."
      ]
    },
    {
      "cell_type": "code",
      "metadata": {
        "id": "VhW_-xWbPztD",
        "colab_type": "code",
        "colab": {
          "base_uri": "https://localhost:8080/",
          "height": 34
        },
        "outputId": "bcd91801-d0be-43a9-a86b-210f7ebafe3d"
      },
      "source": [
        "#이미지데이터를 28*28의 형태로 변환\n",
        "image=np.array(train.iloc[:,3:]).reshape(-1,28,28)\n",
        "image.shape"
      ],
      "execution_count": 15,
      "outputs": [
        {
          "output_type": "execute_result",
          "data": {
            "text/plain": [
              "(2048, 28, 28)"
            ]
          },
          "metadata": {
            "tags": []
          },
          "execution_count": 15
        }
      ]
    },
    {
      "cell_type": "code",
      "metadata": {
        "scrolled": false,
        "id": "bi118ccBPztI",
        "colab_type": "code",
        "colab": {
          "base_uri": "https://localhost:8080/",
          "height": 879
        },
        "outputId": "753fe430-48d8-442d-ce1c-2c38c0f84330"
      },
      "source": [
        "image"
      ],
      "execution_count": 16,
      "outputs": [
        {
          "output_type": "execute_result",
          "data": {
            "text/plain": [
              "array([[[1, 1, 1, ..., 2, 0, 4],\n",
              "        [0, 1, 3, ..., 4, 1, 3],\n",
              "        [2, 0, 4, ..., 3, 3, 3],\n",
              "        ...,\n",
              "        [2, 1, 2, ..., 4, 1, 0],\n",
              "        [3, 3, 3, ..., 3, 3, 0],\n",
              "        [3, 2, 2, ..., 4, 3, 4]],\n",
              "\n",
              "       [[0, 4, 0, ..., 1, 4, 2],\n",
              "        [3, 3, 4, ..., 3, 4, 2],\n",
              "        [1, 4, 2, ..., 4, 0, 4],\n",
              "        ...,\n",
              "        [2, 4, 4, ..., 0, 0, 1],\n",
              "        [3, 1, 4, ..., 2, 2, 4],\n",
              "        [2, 1, 1, ..., 2, 1, 2]],\n",
              "\n",
              "       [[1, 1, 2, ..., 2, 4, 1],\n",
              "        [1, 2, 0, ..., 2, 4, 0],\n",
              "        [4, 2, 0, ..., 1, 3, 3],\n",
              "        ...,\n",
              "        [3, 0, 1, ..., 2, 2, 1],\n",
              "        [0, 3, 2, ..., 4, 2, 3],\n",
              "        [4, 4, 4, ..., 0, 2, 2]],\n",
              "\n",
              "       ...,\n",
              "\n",
              "       [[4, 0, 4, ..., 3, 2, 3],\n",
              "        [4, 3, 1, ..., 4, 4, 4],\n",
              "        [3, 2, 0, ..., 1, 3, 0],\n",
              "        ...,\n",
              "        [4, 0, 4, ..., 0, 2, 0],\n",
              "        [4, 3, 1, ..., 0, 4, 4],\n",
              "        [1, 3, 3, ..., 2, 0, 0]],\n",
              "\n",
              "       [[2, 3, 3, ..., 0, 1, 2],\n",
              "        [4, 1, 4, ..., 4, 0, 0],\n",
              "        [3, 1, 3, ..., 3, 3, 3],\n",
              "        ...,\n",
              "        [1, 1, 4, ..., 1, 0, 0],\n",
              "        [4, 4, 0, ..., 0, 1, 0],\n",
              "        [1, 0, 1, ..., 4, 3, 1]],\n",
              "\n",
              "       [[4, 2, 2, ..., 3, 1, 2],\n",
              "        [0, 2, 4, ..., 0, 3, 3],\n",
              "        [4, 1, 4, ..., 4, 4, 4],\n",
              "        ...,\n",
              "        [0, 0, 2, ..., 3, 2, 2],\n",
              "        [2, 3, 2, ..., 0, 1, 0],\n",
              "        [0, 3, 3, ..., 4, 3, 4]]])"
            ]
          },
          "metadata": {
            "tags": []
          },
          "execution_count": 16
        }
      ]
    },
    {
      "cell_type": "markdown",
      "metadata": {
        "id": "602oZ03wPztN",
        "colab_type": "text"
      },
      "source": [
        "### 현재 데이터가 어떤 이미지를 구성하고 있는지 알아본다."
      ]
    },
    {
      "cell_type": "code",
      "metadata": {
        "id": "ErIV4-iZPztO",
        "colab_type": "code",
        "colab": {},
        "outputId": "c49fbc90-9d7f-4b7d-be41-653da9344317"
      },
      "source": [
        "#몇개의 이미지가 어떤 형태인지 살펴 본다. random 하게 \n",
        "import random\n",
        "\n",
        "for i in range(10):\n",
        "    ran=random.randint(0,2048)\n",
        "    image=np.array(train.iloc[[ran],3:]).reshape(28,28).astype(np.float)\n",
        "    plt.imshow(image,cmap='gray')\n",
        "    plt.show()\n",
        "    print(\"id:\",ran+1)\n",
        "    print(\"letter:\",train.iloc[ran]['letter'])\n",
        "    print(\"digit:\",train.iloc[ran]['digit'])"
      ],
      "execution_count": null,
      "outputs": [
        {
          "output_type": "display_data",
          "data": {
            "image/png": "[encoded data removed]",
            "text/plain": [
              "<Figure size 432x288 with 1 Axes>"
            ]
          },
          "metadata": {
            "tags": [],
            "needs_background": "light"
          }
        },
        {
          "output_type": "stream",
          "text": [
            "id: 1127\n",
            "letter: A\n",
            "digit: 7\n"
          ],
          "name": "stdout"
        },
        {
          "output_type": "display_data",
          "data": {
            "image/png": "[encoded data removed]",
            "text/plain": [
              "<Figure size 432x288 with 1 Axes>"
            ]
          },
          "metadata": {
            "tags": [],
            "needs_background": "light"
          }
        },
        {
          "output_type": "stream",
          "text": [
            "id: 871\n",
            "letter: K\n",
            "digit: 2\n"
          ],
          "name": "stdout"
        },
        {
          "output_type": "display_data",
          "data": {
            "image/png": "[encoded data removed]",
            "text/plain": [
              "<Figure size 432x288 with 1 Axes>"
            ]
          },
          "metadata": {
            "tags": [],
            "needs_background": "light"
          }
        },
        {
          "output_type": "stream",
          "text": [
            "id: 1813\n",
            "letter: M\n",
            "digit: 1\n"
          ],
          "name": "stdout"
        },
        {
          "output_type": "display_data",
          "data": {
            "image/png": "[encoded data removed]",
            "text/plain": [
              "<Figure size 432x288 with 1 Axes>"
            ]
          },
          "metadata": {
            "tags": [],
            "needs_background": "light"
          }
        },
        {
          "output_type": "stream",
          "text": [
            "id: 456\n",
            "letter: F\n",
            "digit: 3\n"
          ],
          "name": "stdout"
        },
        {
          "output_type": "display_data",
          "data": {
            "image/png": "[encoded data removed]",
            "text/plain": [
              "<Figure size 432x288 with 1 Axes>"
            ]
          },
          "metadata": {
            "tags": [],
            "needs_background": "light"
          }
        },
        {
          "output_type": "stream",
          "text": [
            "id: 1178\n",
            "letter: A\n",
            "digit: 2\n"
          ],
          "name": "stdout"
        },
        {
          "output_type": "display_data",
          "data": {
            "image/png": "[encoded data removed]",
            "text/plain": [
              "<Figure size 432x288 with 1 Axes>"
            ]
          },
          "metadata": {
            "tags": [],
            "needs_background": "light"
          }
        },
        {
          "output_type": "stream",
          "text": [
            "id: 587\n",
            "letter: G\n",
            "digit: 0\n"
          ],
          "name": "stdout"
        },
        {
          "output_type": "display_data",
          "data": {
            "image/png": "[encoded data removed]",
            "text/plain": [
              "<Figure size 432x288 with 1 Axes>"
            ]
          },
          "metadata": {
            "tags": [],
            "needs_background": "light"
          }
        },
        {
          "output_type": "stream",
          "text": [
            "id: 1844\n",
            "letter: G\n",
            "digit: 5\n"
          ],
          "name": "stdout"
        },
        {
          "output_type": "display_data",
          "data": {
            "image/png": "[encoded data removed]",
            "text/plain": [
              "<Figure size 432x288 with 1 Axes>"
            ]
          },
          "metadata": {
            "tags": [],
            "needs_background": "light"
          }
        },
        {
          "output_type": "stream",
          "text": [
            "id: 1595\n",
            "letter: C\n",
            "digit: 7\n"
          ],
          "name": "stdout"
        },
        {
          "output_type": "display_data",
          "data": {
            "image/png": "[encoded data removed]",
            "text/plain": [
              "<Figure size 432x288 with 1 Axes>"
            ]
          },
          "metadata": {
            "tags": [],
            "needs_background": "light"
          }
        },
        {
          "output_type": "stream",
          "text": [
            "id: 480\n",
            "letter: K\n",
            "digit: 3\n"
          ],
          "name": "stdout"
        },
        {
          "output_type": "display_data",
          "data": {
            "image/png": "[encoded data removed]",
            "text/plain": [
              "<Figure size 432x288 with 1 Axes>"
            ]
          },
          "metadata": {
            "tags": [],
            "needs_background": "light"
          }
        },
        {
          "output_type": "stream",
          "text": [
            "id: 1515\n",
            "letter: E\n",
            "digit: 9\n"
          ],
          "name": "stdout"
        }
      ]
    },
    {
      "cell_type": "code",
      "metadata": {
        "id": "3m1yTdhcPztT",
        "colab_type": "code",
        "colab": {},
        "outputId": "79fe624e-0773-4c3e-99ae-736acd5a392f"
      },
      "source": [
        " #숫자와 이미지가 어떤 관계가 있는지 검토 (특정 알파벳에 몇개 숫자만 할당된 것이 아니라 전체 다 할당)\n",
        "dataA=train[train['letter']=='A']\n",
        "dataA"
      ],
      "execution_count": null,
      "outputs": [
        {
          "output_type": "execute_result",
          "data": {
            "text/html": [
              "<div>\n",
              "<style scoped>\n",
              "    .dataframe tbody tr th:only-of-type {\n",
              "        vertical-align: middle;\n",
              "    }\n",
              "\n",
              "    .dataframe tbody tr th {\n",
              "        vertical-align: top;\n",
              "    }\n",
              "\n",
              "    .dataframe thead th {\n",
              "        text-align: right;\n",
              "    }\n",
              "</style>\n",
              "<table border=\"1\" class=\"dataframe\">\n",
              "  <thead>\n",
              "    <tr style=\"text-align: right;\">\n",
              "      <th></th>\n",
              "      <th>id</th>\n",
              "      <th>digit</th>\n",
              "      <th>letter</th>\n",
              "      <th>0</th>\n",
              "      <th>1</th>\n",
              "      <th>2</th>\n",
              "      <th>3</th>\n",
              "      <th>4</th>\n",
              "      <th>5</th>\n",
              "      <th>6</th>\n",
              "      <th>...</th>\n",
              "      <th>774</th>\n",
              "      <th>775</th>\n",
              "      <th>776</th>\n",
              "      <th>777</th>\n",
              "      <th>778</th>\n",
              "      <th>779</th>\n",
              "      <th>780</th>\n",
              "      <th>781</th>\n",
              "      <th>782</th>\n",
              "      <th>783</th>\n",
              "    </tr>\n",
              "  </thead>\n",
              "  <tbody>\n",
              "    <tr>\n",
              "      <th>4</th>\n",
              "      <td>5</td>\n",
              "      <td>6</td>\n",
              "      <td>A</td>\n",
              "      <td>3</td>\n",
              "      <td>0</td>\n",
              "      <td>2</td>\n",
              "      <td>4</td>\n",
              "      <td>0</td>\n",
              "      <td>3</td>\n",
              "      <td>0</td>\n",
              "      <td>...</td>\n",
              "      <td>4</td>\n",
              "      <td>4</td>\n",
              "      <td>3</td>\n",
              "      <td>2</td>\n",
              "      <td>1</td>\n",
              "      <td>3</td>\n",
              "      <td>4</td>\n",
              "      <td>3</td>\n",
              "      <td>1</td>\n",
              "      <td>2</td>\n",
              "    </tr>\n",
              "    <tr>\n",
              "      <th>17</th>\n",
              "      <td>18</td>\n",
              "      <td>7</td>\n",
              "      <td>A</td>\n",
              "      <td>2</td>\n",
              "      <td>3</td>\n",
              "      <td>0</td>\n",
              "      <td>4</td>\n",
              "      <td>0</td>\n",
              "      <td>0</td>\n",
              "      <td>1</td>\n",
              "      <td>...</td>\n",
              "      <td>1</td>\n",
              "      <td>2</td>\n",
              "      <td>0</td>\n",
              "      <td>0</td>\n",
              "      <td>1</td>\n",
              "      <td>0</td>\n",
              "      <td>2</td>\n",
              "      <td>2</td>\n",
              "      <td>1</td>\n",
              "      <td>4</td>\n",
              "    </tr>\n",
              "    <tr>\n",
              "      <th>44</th>\n",
              "      <td>45</td>\n",
              "      <td>5</td>\n",
              "      <td>A</td>\n",
              "      <td>2</td>\n",
              "      <td>0</td>\n",
              "      <td>4</td>\n",
              "      <td>2</td>\n",
              "      <td>3</td>\n",
              "      <td>1</td>\n",
              "      <td>3</td>\n",
              "      <td>...</td>\n",
              "      <td>3</td>\n",
              "      <td>1</td>\n",
              "      <td>2</td>\n",
              "      <td>0</td>\n",
              "      <td>4</td>\n",
              "      <td>2</td>\n",
              "      <td>3</td>\n",
              "      <td>4</td>\n",
              "      <td>1</td>\n",
              "      <td>1</td>\n",
              "    </tr>\n",
              "    <tr>\n",
              "      <th>75</th>\n",
              "      <td>76</td>\n",
              "      <td>7</td>\n",
              "      <td>A</td>\n",
              "      <td>1</td>\n",
              "      <td>0</td>\n",
              "      <td>4</td>\n",
              "      <td>1</td>\n",
              "      <td>4</td>\n",
              "      <td>1</td>\n",
              "      <td>1</td>\n",
              "      <td>...</td>\n",
              "      <td>0</td>\n",
              "      <td>4</td>\n",
              "      <td>0</td>\n",
              "      <td>4</td>\n",
              "      <td>3</td>\n",
              "      <td>2</td>\n",
              "      <td>4</td>\n",
              "      <td>1</td>\n",
              "      <td>2</td>\n",
              "      <td>2</td>\n",
              "    </tr>\n",
              "    <tr>\n",
              "      <th>105</th>\n",
              "      <td>106</td>\n",
              "      <td>2</td>\n",
              "      <td>A</td>\n",
              "      <td>4</td>\n",
              "      <td>2</td>\n",
              "      <td>4</td>\n",
              "      <td>1</td>\n",
              "      <td>0</td>\n",
              "      <td>4</td>\n",
              "      <td>3</td>\n",
              "      <td>...</td>\n",
              "      <td>0</td>\n",
              "      <td>2</td>\n",
              "      <td>0</td>\n",
              "      <td>2</td>\n",
              "      <td>4</td>\n",
              "      <td>3</td>\n",
              "      <td>2</td>\n",
              "      <td>3</td>\n",
              "      <td>0</td>\n",
              "      <td>1</td>\n",
              "    </tr>\n",
              "    <tr>\n",
              "      <th>...</th>\n",
              "      <td>...</td>\n",
              "      <td>...</td>\n",
              "      <td>...</td>\n",
              "      <td>...</td>\n",
              "      <td>...</td>\n",
              "      <td>...</td>\n",
              "      <td>...</td>\n",
              "      <td>...</td>\n",
              "      <td>...</td>\n",
              "      <td>...</td>\n",
              "      <td>...</td>\n",
              "      <td>...</td>\n",
              "      <td>...</td>\n",
              "      <td>...</td>\n",
              "      <td>...</td>\n",
              "      <td>...</td>\n",
              "      <td>...</td>\n",
              "      <td>...</td>\n",
              "      <td>...</td>\n",
              "      <td>...</td>\n",
              "      <td>...</td>\n",
              "    </tr>\n",
              "    <tr>\n",
              "      <th>1964</th>\n",
              "      <td>1965</td>\n",
              "      <td>1</td>\n",
              "      <td>A</td>\n",
              "      <td>3</td>\n",
              "      <td>2</td>\n",
              "      <td>0</td>\n",
              "      <td>3</td>\n",
              "      <td>0</td>\n",
              "      <td>2</td>\n",
              "      <td>1</td>\n",
              "      <td>...</td>\n",
              "      <td>3</td>\n",
              "      <td>4</td>\n",
              "      <td>3</td>\n",
              "      <td>1</td>\n",
              "      <td>4</td>\n",
              "      <td>4</td>\n",
              "      <td>1</td>\n",
              "      <td>2</td>\n",
              "      <td>3</td>\n",
              "      <td>2</td>\n",
              "    </tr>\n",
              "    <tr>\n",
              "      <th>1967</th>\n",
              "      <td>1968</td>\n",
              "      <td>5</td>\n",
              "      <td>A</td>\n",
              "      <td>0</td>\n",
              "      <td>2</td>\n",
              "      <td>0</td>\n",
              "      <td>0</td>\n",
              "      <td>3</td>\n",
              "      <td>1</td>\n",
              "      <td>3</td>\n",
              "      <td>...</td>\n",
              "      <td>1</td>\n",
              "      <td>1</td>\n",
              "      <td>2</td>\n",
              "      <td>2</td>\n",
              "      <td>3</td>\n",
              "      <td>0</td>\n",
              "      <td>3</td>\n",
              "      <td>1</td>\n",
              "      <td>4</td>\n",
              "      <td>2</td>\n",
              "    </tr>\n",
              "    <tr>\n",
              "      <th>2010</th>\n",
              "      <td>2011</td>\n",
              "      <td>9</td>\n",
              "      <td>A</td>\n",
              "      <td>3</td>\n",
              "      <td>1</td>\n",
              "      <td>1</td>\n",
              "      <td>1</td>\n",
              "      <td>0</td>\n",
              "      <td>1</td>\n",
              "      <td>4</td>\n",
              "      <td>...</td>\n",
              "      <td>1</td>\n",
              "      <td>0</td>\n",
              "      <td>3</td>\n",
              "      <td>0</td>\n",
              "      <td>4</td>\n",
              "      <td>3</td>\n",
              "      <td>1</td>\n",
              "      <td>0</td>\n",
              "      <td>2</td>\n",
              "      <td>3</td>\n",
              "    </tr>\n",
              "    <tr>\n",
              "      <th>2011</th>\n",
              "      <td>2012</td>\n",
              "      <td>9</td>\n",
              "      <td>A</td>\n",
              "      <td>4</td>\n",
              "      <td>3</td>\n",
              "      <td>3</td>\n",
              "      <td>0</td>\n",
              "      <td>3</td>\n",
              "      <td>0</td>\n",
              "      <td>2</td>\n",
              "      <td>...</td>\n",
              "      <td>4</td>\n",
              "      <td>2</td>\n",
              "      <td>0</td>\n",
              "      <td>1</td>\n",
              "      <td>3</td>\n",
              "      <td>3</td>\n",
              "      <td>4</td>\n",
              "      <td>0</td>\n",
              "      <td>1</td>\n",
              "      <td>3</td>\n",
              "    </tr>\n",
              "    <tr>\n",
              "      <th>2045</th>\n",
              "      <td>2046</td>\n",
              "      <td>9</td>\n",
              "      <td>A</td>\n",
              "      <td>4</td>\n",
              "      <td>0</td>\n",
              "      <td>4</td>\n",
              "      <td>0</td>\n",
              "      <td>2</td>\n",
              "      <td>4</td>\n",
              "      <td>4</td>\n",
              "      <td>...</td>\n",
              "      <td>2</td>\n",
              "      <td>3</td>\n",
              "      <td>1</td>\n",
              "      <td>1</td>\n",
              "      <td>3</td>\n",
              "      <td>4</td>\n",
              "      <td>2</td>\n",
              "      <td>2</td>\n",
              "      <td>0</td>\n",
              "      <td>0</td>\n",
              "    </tr>\n",
              "  </tbody>\n",
              "</table>\n",
              "<p>72 rows × 787 columns</p>\n",
              "</div>"
            ],
            "text/plain": [
              "        id  digit letter  0  1  2  3  4  5  6  ...  774  775  776  777  778  \\\n",
              "4        5      6      A  3  0  2  4  0  3  0  ...    4    4    3    2    1   \n",
              "17      18      7      A  2  3  0  4  0  0  1  ...    1    2    0    0    1   \n",
              "44      45      5      A  2  0  4  2  3  1  3  ...    3    1    2    0    4   \n",
              "75      76      7      A  1  0  4  1  4  1  1  ...    0    4    0    4    3   \n",
              "105    106      2      A  4  2  4  1  0  4  3  ...    0    2    0    2    4   \n",
              "...    ...    ...    ... .. .. .. .. .. .. ..  ...  ...  ...  ...  ...  ...   \n",
              "1964  1965      1      A  3  2  0  3  0  2  1  ...    3    4    3    1    4   \n",
              "1967  1968      5      A  0  2  0  0  3  1  3  ...    1    1    2    2    3   \n",
              "2010  2011      9      A  3  1  1  1  0  1  4  ...    1    0    3    0    4   \n",
              "2011  2012      9      A  4  3  3  0  3  0  2  ...    4    2    0    1    3   \n",
              "2045  2046      9      A  4  0  4  0  2  4  4  ...    2    3    1    1    3   \n",
              "\n",
              "      779  780  781  782  783  \n",
              "4       3    4    3    1    2  \n",
              "17      0    2    2    1    4  \n",
              "44      2    3    4    1    1  \n",
              "75      2    4    1    2    2  \n",
              "105     3    2    3    0    1  \n",
              "...   ...  ...  ...  ...  ...  \n",
              "1964    4    1    2    3    2  \n",
              "1967    0    3    1    4    2  \n",
              "2010    3    1    0    2    3  \n",
              "2011    3    4    0    1    3  \n",
              "2045    4    2    2    0    0  \n",
              "\n",
              "[72 rows x 787 columns]"
            ]
          },
          "metadata": {
            "tags": []
          },
          "execution_count": 11
        }
      ]
    },
    {
      "cell_type": "code",
      "metadata": {
        "id": "cB4SGt4hPzta",
        "colab_type": "code",
        "colab": {
          "base_uri": "https://localhost:8080/",
          "height": 169
        },
        "outputId": "c1f23760-9b2f-4b1b-cf93-069fa6126d40"
      },
      "source": [
        "dataA['digit'].unique()"
      ],
      "execution_count": 17,
      "outputs": [
        {
          "output_type": "error",
          "ename": "NameError",
          "evalue": "ignored",
          "traceback": [
            "\u001b[0;31m---------------------------------------------------------------------------\u001b[0m",
            "\u001b[0;31mNameError\u001b[0m                                 Traceback (most recent call last)",
            "\u001b[0;32m<ipython-input-17-1e3db0a0e3c4>\u001b[0m in \u001b[0;36m<module>\u001b[0;34m()\u001b[0m\n\u001b[0;32m----> 1\u001b[0;31m \u001b[0mdataA\u001b[0m\u001b[0;34m[\u001b[0m\u001b[0;34m'digit'\u001b[0m\u001b[0;34m]\u001b[0m\u001b[0;34m.\u001b[0m\u001b[0munique\u001b[0m\u001b[0;34m(\u001b[0m\u001b[0;34m)\u001b[0m\u001b[0;34m\u001b[0m\u001b[0;34m\u001b[0m\u001b[0m\n\u001b[0m",
            "\u001b[0;31mNameError\u001b[0m: name 'dataA' is not defined"
          ]
        }
      ]
    },
    {
      "cell_type": "code",
      "metadata": {
        "id": "cH0GsC-GPzte",
        "colab_type": "code",
        "colab": {
          "base_uri": "https://localhost:8080/",
          "height": 34
        },
        "outputId": "bc361f0e-8a52-4dc7-9d46-29e512933f24"
      },
      "source": [
        "dataC=train[train['letter']=='C']\n",
        "dataC['digit'].unique()"
      ],
      "execution_count": 18,
      "outputs": [
        {
          "output_type": "execute_result",
          "data": {
            "text/plain": [
              "array([8, 3, 1, 0, 9, 7, 4, 2, 6, 5])"
            ]
          },
          "metadata": {
            "tags": []
          },
          "execution_count": 18
        }
      ]
    },
    {
      "cell_type": "markdown",
      "metadata": {
        "id": "O0qz5gmhPztj",
        "colab_type": "text"
      },
      "source": [
        "### CNN 사용"
      ]
    },
    {
      "cell_type": "code",
      "metadata": {
        "id": "YfSd1SLZUPEy",
        "colab_type": "code",
        "colab": {
          "base_uri": "https://localhost:8080/",
          "height": 668
        },
        "outputId": "42451b1f-49fe-4153-f040-8e8948a76222"
      },
      "source": [
        "!pip install tensorflow"
      ],
      "execution_count": 20,
      "outputs": [
        {
          "output_type": "stream",
          "text": [
            "Requirement already satisfied: tensorflow in /usr/local/lib/python3.6/dist-packages (2.3.0)\n",
            "Requirement already satisfied: gast==0.3.3 in /usr/local/lib/python3.6/dist-packages (from tensorflow) (0.3.3)\n",
            "Requirement already satisfied: scipy==1.4.1 in /usr/local/lib/python3.6/dist-packages (from tensorflow) (1.4.1)\n",
            "Requirement already satisfied: six>=1.12.0 in /usr/local/lib/python3.6/dist-packages (from tensorflow) (1.15.0)\n",
            "Requirement already satisfied: opt-einsum>=2.3.2 in /usr/local/lib/python3.6/dist-packages (from tensorflow) (3.3.0)\n",
            "Requirement already satisfied: wheel>=0.26 in /usr/local/lib/python3.6/dist-packages (from tensorflow) (0.35.1)\n",
            "Requirement already satisfied: keras-preprocessing<1.2,>=1.1.1 in /usr/local/lib/python3.6/dist-packages (from tensorflow) (1.1.2)\n",
            "Requirement already satisfied: astunparse==1.6.3 in /usr/local/lib/python3.6/dist-packages (from tensorflow) (1.6.3)\n",
            "Requirement already satisfied: protobuf>=3.9.2 in /usr/local/lib/python3.6/dist-packages (from tensorflow) (3.12.4)\n",
            "Requirement already satisfied: tensorflow-estimator<2.4.0,>=2.3.0 in /usr/local/lib/python3.6/dist-packages (from tensorflow) (2.3.0)\n",
            "Requirement already satisfied: numpy<1.19.0,>=1.16.0 in /usr/local/lib/python3.6/dist-packages (from tensorflow) (1.18.5)\n",
            "Requirement already satisfied: h5py<2.11.0,>=2.10.0 in /usr/local/lib/python3.6/dist-packages (from tensorflow) (2.10.0)\n",
            "Requirement already satisfied: absl-py>=0.7.0 in /usr/local/lib/python3.6/dist-packages (from tensorflow) (0.8.1)\n",
            "Requirement already satisfied: tensorboard<3,>=2.3.0 in /usr/local/lib/python3.6/dist-packages (from tensorflow) (2.3.0)\n",
            "Requirement already satisfied: google-pasta>=0.1.8 in /usr/local/lib/python3.6/dist-packages (from tensorflow) (0.2.0)\n",
            "Requirement already satisfied: termcolor>=1.1.0 in /usr/local/lib/python3.6/dist-packages (from tensorflow) (1.1.0)\n",
            "Requirement already satisfied: grpcio>=1.8.6 in /usr/local/lib/python3.6/dist-packages (from tensorflow) (1.31.0)\n",
            "Requirement already satisfied: wrapt>=1.11.1 in /usr/local/lib/python3.6/dist-packages (from tensorflow) (1.12.1)\n",
            "Requirement already satisfied: setuptools in /usr/local/lib/python3.6/dist-packages (from protobuf>=3.9.2->tensorflow) (49.6.0)\n",
            "Requirement already satisfied: tensorboard-plugin-wit>=1.6.0 in /usr/local/lib/python3.6/dist-packages (from tensorboard<3,>=2.3.0->tensorflow) (1.7.0)\n",
            "Requirement already satisfied: google-auth<2,>=1.6.3 in /usr/local/lib/python3.6/dist-packages (from tensorboard<3,>=2.3.0->tensorflow) (1.17.2)\n",
            "Requirement already satisfied: werkzeug>=0.11.15 in /usr/local/lib/python3.6/dist-packages (from tensorboard<3,>=2.3.0->tensorflow) (1.0.1)\n",
            "Requirement already satisfied: google-auth-oauthlib<0.5,>=0.4.1 in /usr/local/lib/python3.6/dist-packages (from tensorboard<3,>=2.3.0->tensorflow) (0.4.1)\n",
            "Requirement already satisfied: markdown>=2.6.8 in /usr/local/lib/python3.6/dist-packages (from tensorboard<3,>=2.3.0->tensorflow) (3.2.2)\n",
            "Requirement already satisfied: requests<3,>=2.21.0 in /usr/local/lib/python3.6/dist-packages (from tensorboard<3,>=2.3.0->tensorflow) (2.23.0)\n",
            "Requirement already satisfied: pyasn1-modules>=0.2.1 in /usr/local/lib/python3.6/dist-packages (from google-auth<2,>=1.6.3->tensorboard<3,>=2.3.0->tensorflow) (0.2.8)\n",
            "Requirement already satisfied: rsa<5,>=3.1.4; python_version >= \"3\" in /usr/local/lib/python3.6/dist-packages (from google-auth<2,>=1.6.3->tensorboard<3,>=2.3.0->tensorflow) (4.6)\n",
            "Requirement already satisfied: cachetools<5.0,>=2.0.0 in /usr/local/lib/python3.6/dist-packages (from google-auth<2,>=1.6.3->tensorboard<3,>=2.3.0->tensorflow) (4.1.1)\n",
            "Requirement already satisfied: requests-oauthlib>=0.7.0 in /usr/local/lib/python3.6/dist-packages (from google-auth-oauthlib<0.5,>=0.4.1->tensorboard<3,>=2.3.0->tensorflow) (1.3.0)\n",
            "Requirement already satisfied: importlib-metadata; python_version < \"3.8\" in /usr/local/lib/python3.6/dist-packages (from markdown>=2.6.8->tensorboard<3,>=2.3.0->tensorflow) (1.7.0)\n",
            "Requirement already satisfied: urllib3!=1.25.0,!=1.25.1,<1.26,>=1.21.1 in /usr/local/lib/python3.6/dist-packages (from requests<3,>=2.21.0->tensorboard<3,>=2.3.0->tensorflow) (1.24.3)\n",
            "Requirement already satisfied: certifi>=2017.4.17 in /usr/local/lib/python3.6/dist-packages (from requests<3,>=2.21.0->tensorboard<3,>=2.3.0->tensorflow) (2020.6.20)\n",
            "Requirement already satisfied: idna<3,>=2.5 in /usr/local/lib/python3.6/dist-packages (from requests<3,>=2.21.0->tensorboard<3,>=2.3.0->tensorflow) (2.10)\n",
            "Requirement already satisfied: chardet<4,>=3.0.2 in /usr/local/lib/python3.6/dist-packages (from requests<3,>=2.21.0->tensorboard<3,>=2.3.0->tensorflow) (3.0.4)\n",
            "Requirement already satisfied: pyasn1<0.5.0,>=0.4.6 in /usr/local/lib/python3.6/dist-packages (from pyasn1-modules>=0.2.1->google-auth<2,>=1.6.3->tensorboard<3,>=2.3.0->tensorflow) (0.4.8)\n",
            "Requirement already satisfied: oauthlib>=3.0.0 in /usr/local/lib/python3.6/dist-packages (from requests-oauthlib>=0.7.0->google-auth-oauthlib<0.5,>=0.4.1->tensorboard<3,>=2.3.0->tensorflow) (3.1.0)\n",
            "Requirement already satisfied: zipp>=0.5 in /usr/local/lib/python3.6/dist-packages (from importlib-metadata; python_version < \"3.8\"->markdown>=2.6.8->tensorboard<3,>=2.3.0->tensorflow) (3.1.0)\n"
          ],
          "name": "stdout"
        }
      ]
    },
    {
      "cell_type": "code",
      "metadata": {
        "id": "VORr3s2bUnhp",
        "colab_type": "code",
        "colab": {
          "base_uri": "https://localhost:8080/",
          "height": 169
        },
        "outputId": "bdf92c07-96df-45e5-d16d-4f79341545b2"
      },
      "source": [
        "print(tensorflow.__version__)"
      ],
      "execution_count": 22,
      "outputs": [
        {
          "output_type": "error",
          "ename": "NameError",
          "evalue": "ignored",
          "traceback": [
            "\u001b[0;31m---------------------------------------------------------------------------\u001b[0m",
            "\u001b[0;31mNameError\u001b[0m                                 Traceback (most recent call last)",
            "\u001b[0;32m<ipython-input-22-8e78df944b90>\u001b[0m in \u001b[0;36m<module>\u001b[0;34m()\u001b[0m\n\u001b[0;32m----> 1\u001b[0;31m \u001b[0mprint\u001b[0m\u001b[0;34m(\u001b[0m\u001b[0mtensorflow\u001b[0m\u001b[0;34m.\u001b[0m\u001b[0m__version__\u001b[0m\u001b[0;34m)\u001b[0m\u001b[0;34m\u001b[0m\u001b[0;34m\u001b[0m\u001b[0m\n\u001b[0m",
            "\u001b[0;31mNameError\u001b[0m: name 'tensorflow' is not defined"
          ]
        }
      ]
    },
    {
      "cell_type": "code",
      "metadata": {
        "id": "XBFmmHzEPztk",
        "colab_type": "code",
        "colab": {
          "base_uri": "https://localhost:8080/",
          "height": 580
        },
        "outputId": "858b092b-9d8c-469c-a61a-8037b7450c40"
      },
      "source": [
        "from keras.utils.np_utils import to_categorical\n",
        "from tensorflow.keras.preprocessing.image import ImageDataGenerator\n",
        "from sklearn.model_selection import train_test_split\n",
        "from tensorflow import keras\n",
        "from tensorflow.keras import layers\n",
        "from keras.layers.normalization import BatchNormalization"
      ],
      "execution_count": 21,
      "outputs": [
        {
          "output_type": "error",
          "ename": "ImportError",
          "evalue": "ignored",
          "traceback": [
            "\u001b[0;31m---------------------------------------------------------------------------\u001b[0m",
            "\u001b[0;31mModuleNotFoundError\u001b[0m                       Traceback (most recent call last)",
            "\u001b[0;32m/usr/local/lib/python3.6/dist-packages/keras/__init__.py\u001b[0m in \u001b[0;36m<module>\u001b[0;34m()\u001b[0m\n\u001b[1;32m      2\u001b[0m \u001b[0;32mtry\u001b[0m\u001b[0;34m:\u001b[0m\u001b[0;34m\u001b[0m\u001b[0;34m\u001b[0m\u001b[0m\n\u001b[0;32m----> 3\u001b[0;31m     \u001b[0;32mfrom\u001b[0m \u001b[0mtensorflow\u001b[0m\u001b[0;34m.\u001b[0m\u001b[0mkeras\u001b[0m\u001b[0;34m.\u001b[0m\u001b[0mlayers\u001b[0m\u001b[0;34m.\u001b[0m\u001b[0mexperimental\u001b[0m\u001b[0;34m.\u001b[0m\u001b[0mpreprocessing\u001b[0m \u001b[0;32mimport\u001b[0m \u001b[0mRandomRotation\u001b[0m\u001b[0;34m\u001b[0m\u001b[0;34m\u001b[0m\u001b[0m\n\u001b[0m\u001b[1;32m      4\u001b[0m \u001b[0;32mexcept\u001b[0m \u001b[0mImportError\u001b[0m\u001b[0;34m:\u001b[0m\u001b[0;34m\u001b[0m\u001b[0;34m\u001b[0m\u001b[0m\n",
            "\u001b[0;31mModuleNotFoundError\u001b[0m: No module named 'tensorflow.keras.layers.experimental.preprocessing'",
            "\nDuring handling of the above exception, another exception occurred:\n",
            "\u001b[0;31mImportError\u001b[0m                               Traceback (most recent call last)",
            "\u001b[0;32m<ipython-input-21-c23e57ef3726>\u001b[0m in \u001b[0;36m<module>\u001b[0;34m()\u001b[0m\n\u001b[0;32m----> 1\u001b[0;31m \u001b[0;32mfrom\u001b[0m \u001b[0mkeras\u001b[0m\u001b[0;34m.\u001b[0m\u001b[0mutils\u001b[0m\u001b[0;34m.\u001b[0m\u001b[0mnp_utils\u001b[0m \u001b[0;32mimport\u001b[0m \u001b[0mto_categorical\u001b[0m\u001b[0;34m\u001b[0m\u001b[0;34m\u001b[0m\u001b[0m\n\u001b[0m\u001b[1;32m      2\u001b[0m \u001b[0;32mfrom\u001b[0m \u001b[0mtensorflow\u001b[0m\u001b[0;34m.\u001b[0m\u001b[0mkeras\u001b[0m\u001b[0;34m.\u001b[0m\u001b[0mpreprocessing\u001b[0m\u001b[0;34m.\u001b[0m\u001b[0mimage\u001b[0m \u001b[0;32mimport\u001b[0m \u001b[0mImageDataGenerator\u001b[0m\u001b[0;34m\u001b[0m\u001b[0;34m\u001b[0m\u001b[0m\n\u001b[1;32m      3\u001b[0m \u001b[0;32mfrom\u001b[0m \u001b[0msklearn\u001b[0m\u001b[0;34m.\u001b[0m\u001b[0mmodel_selection\u001b[0m \u001b[0;32mimport\u001b[0m \u001b[0mtrain_test_split\u001b[0m\u001b[0;34m\u001b[0m\u001b[0;34m\u001b[0m\u001b[0m\n\u001b[1;32m      4\u001b[0m \u001b[0;32mfrom\u001b[0m \u001b[0mtensorflow\u001b[0m \u001b[0;32mimport\u001b[0m \u001b[0mkeras\u001b[0m\u001b[0;34m\u001b[0m\u001b[0;34m\u001b[0m\u001b[0m\n\u001b[1;32m      5\u001b[0m \u001b[0;32mfrom\u001b[0m \u001b[0mtensorflow\u001b[0m\u001b[0;34m.\u001b[0m\u001b[0mkeras\u001b[0m \u001b[0;32mimport\u001b[0m \u001b[0mlayers\u001b[0m\u001b[0;34m\u001b[0m\u001b[0;34m\u001b[0m\u001b[0m\n",
            "\u001b[0;32m/usr/local/lib/python3.6/dist-packages/keras/__init__.py\u001b[0m in \u001b[0;36m<module>\u001b[0;34m()\u001b[0m\n\u001b[1;32m      4\u001b[0m \u001b[0;32mexcept\u001b[0m \u001b[0mImportError\u001b[0m\u001b[0;34m:\u001b[0m\u001b[0;34m\u001b[0m\u001b[0;34m\u001b[0m\u001b[0m\n\u001b[1;32m      5\u001b[0m     raise ImportError(\n\u001b[0;32m----> 6\u001b[0;31m         \u001b[0;34m'Keras requires TensorFlow 2.2 or higher. '\u001b[0m\u001b[0;34m\u001b[0m\u001b[0;34m\u001b[0m\u001b[0m\n\u001b[0m\u001b[1;32m      7\u001b[0m         'Install TensorFlow via `pip install tensorflow`')\n\u001b[1;32m      8\u001b[0m \u001b[0;34m\u001b[0m\u001b[0m\n",
            "\u001b[0;31mImportError\u001b[0m: Keras requires TensorFlow 2.2 or higher. Install TensorFlow via `pip install tensorflow`",
            "",
            "\u001b[0;31m---------------------------------------------------------------------------\u001b[0;32m\nNOTE: If your import is failing due to a missing package, you can\nmanually install dependencies using either !pip or !apt.\n\nTo view examples of installing some common dependencies, click the\n\"Open Examples\" button below.\n\u001b[0;31m---------------------------------------------------------------------------\u001b[0m\n"
          ]
        }
      ]
    },
    {
      "cell_type": "markdown",
      "metadata": {
        "id": "wPr5xjT7Pztn",
        "colab_type": "text"
      },
      "source": [
        "#### CNN에 들어갈 수 있도록 np.array를 통해 데이터의 차원 변경 "
      ]
    },
    {
      "cell_type": "code",
      "metadata": {
        "id": "u_EC7B27Pzto",
        "colab_type": "code",
        "colab": {}
      },
      "source": [
        "x_train=np.array(train.iloc[:,3:]).reshape(-1,28,28,1).astype(np.float)\n",
        "y_train=to_categorical(train['digit'].values)"
      ],
      "execution_count": null,
      "outputs": []
    },
    {
      "cell_type": "code",
      "metadata": {
        "id": "JRYgwUPMPzts",
        "colab_type": "code",
        "colab": {},
        "outputId": "274e13b0-0d38-4708-e211-6adcb6a1d604"
      },
      "source": [
        "x_train.shape"
      ],
      "execution_count": null,
      "outputs": [
        {
          "output_type": "execute_result",
          "data": {
            "text/plain": [
              "(2048, 28, 28, 1)"
            ]
          },
          "metadata": {
            "tags": []
          },
          "execution_count": 16
        }
      ]
    },
    {
      "cell_type": "code",
      "metadata": {
        "id": "4E56lNV1Pztv",
        "colab_type": "code",
        "colab": {},
        "outputId": "b4162d88-54a3-4f6f-fd11-7fd2ffc141ac"
      },
      "source": [
        "y_train.shape"
      ],
      "execution_count": null,
      "outputs": [
        {
          "output_type": "execute_result",
          "data": {
            "text/plain": [
              "(2048, 10)"
            ]
          },
          "metadata": {
            "tags": []
          },
          "execution_count": 17
        }
      ]
    },
    {
      "cell_type": "markdown",
      "metadata": {
        "id": "SEVn_Iy3Pzt0",
        "colab_type": "text"
      },
      "source": [
        "#### train data 와 validation data 를 나누어 모델의 학습에 사용"
      ]
    },
    {
      "cell_type": "code",
      "metadata": {
        "id": "PcxsQHT4Pzt1",
        "colab_type": "code",
        "colab": {}
      },
      "source": [
        "#train , val 나누기 (0.2사용)\n",
        "x_train, x_val, y_train, y_val = train_test_split(x_train, y_train, test_size = 0.2)"
      ],
      "execution_count": null,
      "outputs": []
    },
    {
      "cell_type": "code",
      "metadata": {
        "id": "3aqoFYTJPzt5",
        "colab_type": "code",
        "colab": {},
        "outputId": "b09fb6c1-2f90-4174-cf56-da25b37b6650"
      },
      "source": [
        "x_train.shape[0]"
      ],
      "execution_count": null,
      "outputs": [
        {
          "output_type": "execute_result",
          "data": {
            "text/plain": [
              "1638"
            ]
          },
          "metadata": {
            "tags": []
          },
          "execution_count": 19
        }
      ]
    },
    {
      "cell_type": "code",
      "metadata": {
        "id": "IJlSrheoPzt9",
        "colab_type": "code",
        "colab": {},
        "outputId": "6f8ab0c1-ec45-4f1f-a7e7-efb3adfdccdd"
      },
      "source": [
        "x_val.shape[0]"
      ],
      "execution_count": null,
      "outputs": [
        {
          "output_type": "execute_result",
          "data": {
            "text/plain": [
              "410"
            ]
          },
          "metadata": {
            "tags": []
          },
          "execution_count": 20
        }
      ]
    },
    {
      "cell_type": "markdown",
      "metadata": {
        "id": "h-kL87YwPzuC",
        "colab_type": "text"
      },
      "source": [
        "#### 현재 데이터의 수가 적으므로 imagegenerator를 통해 데이터를 증식"
      ]
    },
    {
      "cell_type": "code",
      "metadata": {
        "id": "tJUjEZUcPzuC",
        "colab_type": "code",
        "colab": {}
      },
      "source": [
        "#이미지 데이터 증식 여러각도로 바꾸어 본다. \n",
        "train_datagen = ImageDataGenerator(\n",
        "    rescale=1./255,\n",
        "    rotation_range=10,\n",
        "    width_shift_range=0.1,\n",
        "    height_shift_range=0.1,\n",
        "    shear_range=0.2,\n",
        "    zoom_range=0.1,\n",
        "    fill_mode='nearest'\n",
        "    )\n",
        "train_datagen.fit(x_train)\n",
        "test_datagen=ImageDataGenerator(rescale=1./255)"
      ],
      "execution_count": null,
      "outputs": []
    },
    {
      "cell_type": "code",
      "metadata": {
        "id": "ixgrACwGPzuG",
        "colab_type": "code",
        "colab": {},
        "outputId": "d50ac11d-c0d1-4914-9cf7-aa1985a9256c"
      },
      "source": [
        "x_train.shape"
      ],
      "execution_count": null,
      "outputs": [
        {
          "output_type": "execute_result",
          "data": {
            "text/plain": [
              "(1638, 28, 28, 1)"
            ]
          },
          "metadata": {
            "tags": []
          },
          "execution_count": 22
        }
      ]
    },
    {
      "cell_type": "code",
      "metadata": {
        "id": "Krwh6kuwPzuK",
        "colab_type": "code",
        "colab": {}
      },
      "source": [
        "from keras.wrappers.scikit_learn import KerasClassifier"
      ],
      "execution_count": null,
      "outputs": []
    },
    {
      "cell_type": "markdown",
      "metadata": {
        "id": "NRBrWKApPzuO",
        "colab_type": "text"
      },
      "source": [
        "#### 모델의 구성 (keras를 이용)\n",
        "1) Conv2D 계층과 그 뒤에 Pooling 계층을 연결\n",
        " - 초기에는 뒤의 Dense를 2개 두었지만 AlexNet을 모방하여 Dense를 늘리니 정확도가 상승\n",
        " \n",
        "2) 활성화 함수, 옵티마이저의 변경: Leaky Relu 와 nadam,adagrad,msd 등을 사용해 보았지만 adam이 정확도가 좋아보임\n",
        "\n",
        "3) Drop out 계층의 추가를 통해 정확도 상승 실험(Drop out 비율조정시 0.5가 좋아보임)\n",
        "\n",
        "4) padding을 적용시켜 데이터의 손실을 막아봄"
      ]
    },
    {
      "cell_type": "code",
      "metadata": {
        "id": "N6AhrNQnPzuP",
        "colab_type": "code",
        "colab": {},
        "outputId": "00d00c6b-c204-4860-df8e-cc2347627689"
      },
      "source": [
        "model = keras.Sequential()\n",
        "model.add(layers.Conv2D(32, kernel_size=3,padding='same', activation='relu',\n",
        "                        input_shape=x_train.shape[1:]))\n",
        "model.add(layers.MaxPooling2D((2,2)))\n",
        "model.add(layers.Conv2D(64, kernel_size=3,padding='same', activation='relu'))\n",
        "model.add(layers.MaxPooling2D((2,2)))\n",
        "model.add(layers.Conv2D(128, kernel_size=3,padding='valid', activation='relu'))\n",
        "model.add(layers.MaxPooling2D((2,2)))\n",
        "model.add(layers.Dropout(0.5))\n",
        "model.add(layers.Flatten())\n",
        "model.add(layers.Dense(512, activation='relu'))\n",
        "model.add(layers.Dense(256, activation='relu'))\n",
        "model.add(layers.Dense(128, activation='relu'))\n",
        "model.add(layers.Dense(y_train.shape[1], activation='softmax'))\n",
        "model.summary()"
      ],
      "execution_count": null,
      "outputs": [
        {
          "output_type": "stream",
          "text": [
            "Model: \"sequential\"\n",
            "_________________________________________________________________\n",
            "Layer (type)                 Output Shape              Param #   \n",
            "=================================================================\n",
            "conv2d (Conv2D)              (None, 28, 28, 32)        320       \n",
            "_________________________________________________________________\n",
            "max_pooling2d (MaxPooling2D) (None, 14, 14, 32)        0         \n",
            "_________________________________________________________________\n",
            "conv2d_1 (Conv2D)            (None, 14, 14, 64)        18496     \n",
            "_________________________________________________________________\n",
            "max_pooling2d_1 (MaxPooling2 (None, 7, 7, 64)          0         \n",
            "_________________________________________________________________\n",
            "conv2d_2 (Conv2D)            (None, 5, 5, 128)         73856     \n",
            "_________________________________________________________________\n",
            "max_pooling2d_2 (MaxPooling2 (None, 2, 2, 128)         0         \n",
            "_________________________________________________________________\n",
            "dropout (Dropout)            (None, 2, 2, 128)         0         \n",
            "_________________________________________________________________\n",
            "flatten (Flatten)            (None, 512)               0         \n",
            "_________________________________________________________________\n",
            "dense (Dense)                (None, 512)               262656    \n",
            "_________________________________________________________________\n",
            "dense_1 (Dense)              (None, 256)               131328    \n",
            "_________________________________________________________________\n",
            "dense_2 (Dense)              (None, 128)               32896     \n",
            "_________________________________________________________________\n",
            "dense_3 (Dense)              (None, 10)                1290      \n",
            "=================================================================\n",
            "Total params: 520,842\n",
            "Trainable params: 520,842\n",
            "Non-trainable params: 0\n",
            "_________________________________________________________________\n"
          ],
          "name": "stdout"
        }
      ]
    },
    {
      "cell_type": "code",
      "metadata": {
        "id": "utaBZVbzPzuT",
        "colab_type": "code",
        "colab": {}
      },
      "source": [
        "model.compile(optimizer=\"adam\", loss=\"categorical_crossentropy\", metrics=[\"accuracy\"])"
      ],
      "execution_count": null,
      "outputs": []
    },
    {
      "cell_type": "code",
      "metadata": {
        "id": "kRUHzddAPzuX",
        "colab_type": "code",
        "colab": {}
      },
      "source": [
        "batch=32\n",
        "epoch=300"
      ],
      "execution_count": null,
      "outputs": []
    },
    {
      "cell_type": "markdown",
      "metadata": {
        "id": "uA-kopFwPzud",
        "colab_type": "text"
      },
      "source": [
        "#### 모델의 학습과 Overfitting 방지 \n",
        "- Early stopping과 callback을 통해, 지속적으로 Val_accuracy를 모니터링 하여\\\n",
        "  학습이 진행되어가며 Val_accuracy가 개선되지 않으면(증가되거나 지속) 학습을 종료하고\\\n",
        "  가장 좋은 Val_accuray를 보여주었던 모델의 가중치를 best_model.h5로 저장"
      ]
    },
    {
      "cell_type": "code",
      "metadata": {
        "scrolled": true,
        "id": "bErCxG-hPzue",
        "colab_type": "code",
        "colab": {},
        "outputId": "7e7984b6-be99-4833-b94a-800895509020"
      },
      "source": [
        "early_stop = [keras.callbacks.EarlyStopping(monitor='val_accuracy', patience=40),\n",
        "            keras.callbacks.ModelCheckpoint(filepath='best_model1.h5',monitor='val_accuracy',save_best_only=True)]\n",
        "\n",
        "history = model.fit(\n",
        "    train_datagen.flow(x_train, y_train, batch_size=32),\n",
        "    steps_per_epoch=x_train.shape[0]//batch, # 전체 데이터 수 / 배치 사이즈\n",
        "    epochs=epoch,\n",
        "    validation_data=test_datagen.flow(x_val, y_val),\n",
        "    verbose=2,\n",
        "    callbacks=early_stop\n",
        ")"
      ],
      "execution_count": null,
      "outputs": [
        {
          "output_type": "stream",
          "text": [
            "Epoch 1/300\n",
            "51/51 - 2s - loss: 2.3013 - accuracy: 0.1102 - val_loss: 2.2930 - val_accuracy: 0.1341\n",
            "Epoch 2/300\n",
            "51/51 - 2s - loss: 2.2605 - accuracy: 0.1395 - val_loss: 2.1940 - val_accuracy: 0.1878\n",
            "Epoch 3/300\n",
            "51/51 - 2s - loss: 2.1271 - accuracy: 0.2011 - val_loss: 1.9572 - val_accuracy: 0.2585\n",
            "Epoch 4/300\n",
            "51/51 - 2s - loss: 2.0053 - accuracy: 0.2727 - val_loss: 1.7803 - val_accuracy: 0.3732\n",
            "Epoch 5/300\n",
            "51/51 - 2s - loss: 1.8614 - accuracy: 0.3375 - val_loss: 1.6641 - val_accuracy: 0.4049\n",
            "Epoch 6/300\n",
            "51/51 - 2s - loss: 1.7595 - accuracy: 0.3717 - val_loss: 1.5489 - val_accuracy: 0.4366\n",
            "Epoch 7/300\n",
            "51/51 - 2s - loss: 1.6792 - accuracy: 0.3873 - val_loss: 1.5176 - val_accuracy: 0.4634\n",
            "Epoch 8/300\n",
            "51/51 - 2s - loss: 1.5784 - accuracy: 0.4421 - val_loss: 1.3793 - val_accuracy: 0.5073\n",
            "Epoch 9/300\n",
            "51/51 - 3s - loss: 1.5315 - accuracy: 0.4577 - val_loss: 1.2264 - val_accuracy: 0.5756\n",
            "Epoch 10/300\n",
            "51/51 - 2s - loss: 1.4183 - accuracy: 0.5131 - val_loss: 1.2284 - val_accuracy: 0.5805\n",
            "Epoch 11/300\n",
            "51/51 - 2s - loss: 1.3779 - accuracy: 0.5237 - val_loss: 1.1034 - val_accuracy: 0.6098\n",
            "Epoch 12/300\n",
            "51/51 - 2s - loss: 1.3728 - accuracy: 0.5174 - val_loss: 1.2411 - val_accuracy: 0.5780\n",
            "Epoch 13/300\n",
            "51/51 - 2s - loss: 1.2696 - accuracy: 0.5579 - val_loss: 1.1106 - val_accuracy: 0.6024\n",
            "Epoch 14/300\n",
            "51/51 - 2s - loss: 1.2730 - accuracy: 0.5654 - val_loss: 1.0210 - val_accuracy: 0.6366\n",
            "Epoch 15/300\n",
            "51/51 - 2s - loss: 1.2097 - accuracy: 0.5772 - val_loss: 0.9055 - val_accuracy: 0.6659\n",
            "Epoch 16/300\n",
            "51/51 - 2s - loss: 1.2174 - accuracy: 0.5890 - val_loss: 0.9947 - val_accuracy: 0.6415\n",
            "Epoch 17/300\n",
            "51/51 - 2s - loss: 1.1684 - accuracy: 0.5953 - val_loss: 0.9681 - val_accuracy: 0.6659\n",
            "Epoch 18/300\n",
            "51/51 - 2s - loss: 1.1294 - accuracy: 0.6102 - val_loss: 1.1474 - val_accuracy: 0.6268\n",
            "Epoch 19/300\n",
            "51/51 - 2s - loss: 1.0828 - accuracy: 0.6065 - val_loss: 0.8953 - val_accuracy: 0.6780\n",
            "Epoch 20/300\n",
            "51/51 - 2s - loss: 1.0276 - accuracy: 0.6445 - val_loss: 0.9620 - val_accuracy: 0.6585\n",
            "Epoch 21/300\n",
            "51/51 - 2s - loss: 1.0876 - accuracy: 0.6183 - val_loss: 0.7910 - val_accuracy: 0.7415\n",
            "Epoch 22/300\n",
            "51/51 - 2s - loss: 1.0453 - accuracy: 0.6438 - val_loss: 0.8825 - val_accuracy: 0.6756\n",
            "Epoch 23/300\n",
            "51/51 - 2s - loss: 1.0091 - accuracy: 0.6476 - val_loss: 0.8602 - val_accuracy: 0.7073\n",
            "Epoch 24/300\n",
            "51/51 - 2s - loss: 1.0117 - accuracy: 0.6469 - val_loss: 0.8386 - val_accuracy: 0.7317\n",
            "Epoch 25/300\n",
            "51/51 - 2s - loss: 0.9588 - accuracy: 0.6663 - val_loss: 0.8886 - val_accuracy: 0.7195\n",
            "Epoch 26/300\n",
            "51/51 - 2s - loss: 0.9734 - accuracy: 0.6725 - val_loss: 0.7813 - val_accuracy: 0.7146\n",
            "Epoch 27/300\n",
            "51/51 - 2s - loss: 0.9287 - accuracy: 0.6893 - val_loss: 0.9552 - val_accuracy: 0.6537\n",
            "Epoch 28/300\n",
            "51/51 - 2s - loss: 0.9007 - accuracy: 0.6874 - val_loss: 0.7555 - val_accuracy: 0.7683\n",
            "Epoch 29/300\n",
            "51/51 - 2s - loss: 0.8619 - accuracy: 0.7011 - val_loss: 0.6595 - val_accuracy: 0.7878\n",
            "Epoch 30/300\n",
            "51/51 - 2s - loss: 0.8553 - accuracy: 0.7036 - val_loss: 0.7592 - val_accuracy: 0.7610\n",
            "Epoch 31/300\n",
            "51/51 - 2s - loss: 0.8976 - accuracy: 0.6874 - val_loss: 0.6982 - val_accuracy: 0.7756\n",
            "Epoch 32/300\n",
            "51/51 - 2s - loss: 0.8663 - accuracy: 0.7030 - val_loss: 0.8303 - val_accuracy: 0.7293\n",
            "Epoch 33/300\n",
            "51/51 - 2s - loss: 0.8286 - accuracy: 0.7136 - val_loss: 0.8059 - val_accuracy: 0.7537\n",
            "Epoch 34/300\n",
            "51/51 - 2s - loss: 0.8258 - accuracy: 0.7105 - val_loss: 0.7806 - val_accuracy: 0.7537\n",
            "Epoch 35/300\n",
            "51/51 - 2s - loss: 0.8472 - accuracy: 0.7049 - val_loss: 0.6554 - val_accuracy: 0.8000\n",
            "Epoch 36/300\n",
            "51/51 - 2s - loss: 0.7503 - accuracy: 0.7379 - val_loss: 0.7160 - val_accuracy: 0.7732\n",
            "Epoch 37/300\n",
            "51/51 - 2s - loss: 0.8363 - accuracy: 0.6968 - val_loss: 0.7541 - val_accuracy: 0.7512\n",
            "Epoch 38/300\n",
            "51/51 - 2s - loss: 0.7518 - accuracy: 0.7403 - val_loss: 0.6800 - val_accuracy: 0.7902\n",
            "Epoch 39/300\n",
            "51/51 - 2s - loss: 0.7502 - accuracy: 0.7372 - val_loss: 0.7874 - val_accuracy: 0.7439\n",
            "Epoch 40/300\n",
            "51/51 - 2s - loss: 0.7495 - accuracy: 0.7366 - val_loss: 0.6614 - val_accuracy: 0.7854\n",
            "Epoch 41/300\n",
            "51/51 - 2s - loss: 0.7327 - accuracy: 0.7422 - val_loss: 0.8078 - val_accuracy: 0.7317\n",
            "Epoch 42/300\n",
            "51/51 - 2s - loss: 0.7220 - accuracy: 0.7528 - val_loss: 0.7200 - val_accuracy: 0.7415\n",
            "Epoch 43/300\n",
            "51/51 - 2s - loss: 0.7718 - accuracy: 0.7323 - val_loss: 0.6462 - val_accuracy: 0.8049\n",
            "Epoch 44/300\n",
            "51/51 - 2s - loss: 0.7125 - accuracy: 0.7416 - val_loss: 0.6961 - val_accuracy: 0.7805\n",
            "Epoch 45/300\n",
            "51/51 - 2s - loss: 0.7328 - accuracy: 0.7460 - val_loss: 0.7481 - val_accuracy: 0.7561\n",
            "Epoch 46/300\n",
            "51/51 - 2s - loss: 0.7131 - accuracy: 0.7590 - val_loss: 0.6162 - val_accuracy: 0.8000\n",
            "Epoch 47/300\n",
            "51/51 - 2s - loss: 0.7011 - accuracy: 0.7547 - val_loss: 0.6763 - val_accuracy: 0.7902\n",
            "Epoch 48/300\n",
            "51/51 - 2s - loss: 0.7631 - accuracy: 0.7323 - val_loss: 0.6924 - val_accuracy: 0.7683\n",
            "Epoch 49/300\n",
            "51/51 - 2s - loss: 0.6695 - accuracy: 0.7740 - val_loss: 0.6580 - val_accuracy: 0.7902\n",
            "Epoch 50/300\n",
            "51/51 - 2s - loss: 0.6849 - accuracy: 0.7677 - val_loss: 0.7345 - val_accuracy: 0.7805\n",
            "Epoch 51/300\n",
            "51/51 - 2s - loss: 0.6689 - accuracy: 0.7727 - val_loss: 0.6819 - val_accuracy: 0.7878\n",
            "Epoch 52/300\n",
            "51/51 - 2s - loss: 0.6721 - accuracy: 0.7709 - val_loss: 0.6200 - val_accuracy: 0.8268\n",
            "Epoch 53/300\n",
            "51/51 - 2s - loss: 0.6911 - accuracy: 0.7597 - val_loss: 0.6057 - val_accuracy: 0.8146\n",
            "Epoch 54/300\n",
            "51/51 - 2s - loss: 0.6232 - accuracy: 0.7970 - val_loss: 0.6935 - val_accuracy: 0.7902\n",
            "Epoch 55/300\n",
            "51/51 - 2s - loss: 0.6479 - accuracy: 0.7821 - val_loss: 0.7691 - val_accuracy: 0.7683\n",
            "Epoch 56/300\n",
            "51/51 - 2s - loss: 0.6566 - accuracy: 0.7659 - val_loss: 0.6169 - val_accuracy: 0.8146\n",
            "Epoch 57/300\n",
            "51/51 - 2s - loss: 0.6036 - accuracy: 0.7858 - val_loss: 0.7163 - val_accuracy: 0.7829\n",
            "Epoch 58/300\n",
            "51/51 - 2s - loss: 0.5704 - accuracy: 0.7958 - val_loss: 0.7106 - val_accuracy: 0.7610\n",
            "Epoch 59/300\n",
            "51/51 - 2s - loss: 0.6502 - accuracy: 0.7733 - val_loss: 0.6006 - val_accuracy: 0.8293\n",
            "Epoch 60/300\n",
            "51/51 - 2s - loss: 0.5826 - accuracy: 0.8032 - val_loss: 0.6811 - val_accuracy: 0.7951\n",
            "Epoch 61/300\n",
            "51/51 - 2s - loss: 0.6365 - accuracy: 0.7771 - val_loss: 0.6744 - val_accuracy: 0.8000\n",
            "Epoch 62/300\n",
            "51/51 - 2s - loss: 0.6161 - accuracy: 0.7958 - val_loss: 0.5947 - val_accuracy: 0.8317\n",
            "Epoch 63/300\n",
            "51/51 - 2s - loss: 0.6035 - accuracy: 0.7870 - val_loss: 0.6048 - val_accuracy: 0.7976\n",
            "Epoch 64/300\n",
            "51/51 - 2s - loss: 0.6190 - accuracy: 0.7727 - val_loss: 0.5809 - val_accuracy: 0.8122\n",
            "Epoch 65/300\n",
            "51/51 - 2s - loss: 0.5744 - accuracy: 0.8020 - val_loss: 0.7072 - val_accuracy: 0.7707\n",
            "Epoch 66/300\n",
            "51/51 - 2s - loss: 0.6058 - accuracy: 0.7914 - val_loss: 0.5885 - val_accuracy: 0.8073\n",
            "Epoch 67/300\n",
            "51/51 - 2s - loss: 0.5526 - accuracy: 0.8051 - val_loss: 0.6688 - val_accuracy: 0.7878\n",
            "Epoch 68/300\n",
            "51/51 - 2s - loss: 0.5960 - accuracy: 0.7889 - val_loss: 0.6655 - val_accuracy: 0.7634\n",
            "Epoch 69/300\n",
            "51/51 - 2s - loss: 0.6139 - accuracy: 0.7821 - val_loss: 0.6393 - val_accuracy: 0.7854\n",
            "Epoch 70/300\n",
            "51/51 - 2s - loss: 0.5605 - accuracy: 0.8001 - val_loss: 0.5447 - val_accuracy: 0.8293\n",
            "Epoch 71/300\n",
            "51/51 - 2s - loss: 0.5745 - accuracy: 0.7927 - val_loss: 0.6446 - val_accuracy: 0.8049\n",
            "Epoch 72/300\n",
            "51/51 - 2s - loss: 0.5615 - accuracy: 0.8039 - val_loss: 0.5931 - val_accuracy: 0.8098\n",
            "Epoch 73/300\n",
            "51/51 - 2s - loss: 0.5462 - accuracy: 0.8113 - val_loss: 0.6829 - val_accuracy: 0.7951\n",
            "Epoch 74/300\n",
            "51/51 - 3s - loss: 0.5498 - accuracy: 0.8076 - val_loss: 0.6007 - val_accuracy: 0.8000\n",
            "Epoch 75/300\n",
            "51/51 - 2s - loss: 0.5291 - accuracy: 0.8113 - val_loss: 0.5425 - val_accuracy: 0.8341\n",
            "Epoch 76/300\n",
            "51/51 - 2s - loss: 0.5335 - accuracy: 0.8188 - val_loss: 0.6280 - val_accuracy: 0.8268\n",
            "Epoch 77/300\n",
            "51/51 - 2s - loss: 0.5189 - accuracy: 0.8244 - val_loss: 0.5828 - val_accuracy: 0.8195\n",
            "Epoch 78/300\n",
            "51/51 - 2s - loss: 0.5124 - accuracy: 0.8207 - val_loss: 0.6207 - val_accuracy: 0.7927\n",
            "Epoch 79/300\n",
            "51/51 - 2s - loss: 0.5331 - accuracy: 0.8194 - val_loss: 0.5551 - val_accuracy: 0.8341\n",
            "Epoch 80/300\n",
            "51/51 - 2s - loss: 0.4753 - accuracy: 0.8313 - val_loss: 0.6830 - val_accuracy: 0.8000\n",
            "Epoch 81/300\n",
            "51/51 - 2s - loss: 0.5535 - accuracy: 0.8064 - val_loss: 0.6885 - val_accuracy: 0.7902\n",
            "Epoch 82/300\n",
            "51/51 - 2s - loss: 0.5093 - accuracy: 0.8194 - val_loss: 0.5866 - val_accuracy: 0.8341\n",
            "Epoch 83/300\n"
          ],
          "name": "stdout"
        },
        {
          "output_type": "stream",
          "text": [
            "51/51 - 2s - loss: 0.5152 - accuracy: 0.8244 - val_loss: 0.5444 - val_accuracy: 0.8098\n",
            "Epoch 84/300\n",
            "51/51 - 2s - loss: 0.5109 - accuracy: 0.8269 - val_loss: 0.6214 - val_accuracy: 0.8073\n",
            "Epoch 85/300\n",
            "51/51 - 2s - loss: 0.5083 - accuracy: 0.8151 - val_loss: 0.6975 - val_accuracy: 0.7854\n",
            "Epoch 86/300\n",
            "51/51 - 2s - loss: 0.4678 - accuracy: 0.8182 - val_loss: 0.6402 - val_accuracy: 0.8073\n",
            "Epoch 87/300\n",
            "51/51 - 2s - loss: 0.4897 - accuracy: 0.8263 - val_loss: 0.5605 - val_accuracy: 0.8268\n",
            "Epoch 88/300\n",
            "51/51 - 2s - loss: 0.4898 - accuracy: 0.8300 - val_loss: 0.5505 - val_accuracy: 0.8244\n",
            "Epoch 89/300\n",
            "51/51 - 2s - loss: 0.4756 - accuracy: 0.8362 - val_loss: 0.5710 - val_accuracy: 0.8366\n",
            "Epoch 90/300\n",
            "51/51 - 2s - loss: 0.4684 - accuracy: 0.8275 - val_loss: 0.4848 - val_accuracy: 0.8683\n",
            "Epoch 91/300\n",
            "51/51 - 2s - loss: 0.5021 - accuracy: 0.8238 - val_loss: 0.8022 - val_accuracy: 0.7439\n",
            "Epoch 92/300\n",
            "51/51 - 2s - loss: 0.4881 - accuracy: 0.8337 - val_loss: 0.6798 - val_accuracy: 0.7927\n",
            "Epoch 93/300\n",
            "51/51 - 2s - loss: 0.4942 - accuracy: 0.8263 - val_loss: 0.5979 - val_accuracy: 0.8220\n",
            "Epoch 94/300\n",
            "51/51 - 2s - loss: 0.4568 - accuracy: 0.8412 - val_loss: 0.5352 - val_accuracy: 0.8512\n",
            "Epoch 95/300\n",
            "51/51 - 2s - loss: 0.4369 - accuracy: 0.8443 - val_loss: 0.5829 - val_accuracy: 0.8195\n",
            "Epoch 96/300\n",
            "51/51 - 2s - loss: 0.4528 - accuracy: 0.8431 - val_loss: 0.6153 - val_accuracy: 0.8122\n",
            "Epoch 97/300\n",
            "51/51 - 2s - loss: 0.4545 - accuracy: 0.8481 - val_loss: 0.6095 - val_accuracy: 0.8098\n",
            "Epoch 98/300\n",
            "51/51 - 2s - loss: 0.4380 - accuracy: 0.8450 - val_loss: 0.6157 - val_accuracy: 0.8146\n",
            "Epoch 99/300\n",
            "51/51 - 2s - loss: 0.4288 - accuracy: 0.8499 - val_loss: 0.5879 - val_accuracy: 0.8122\n",
            "Epoch 100/300\n",
            "51/51 - 2s - loss: 0.4560 - accuracy: 0.8450 - val_loss: 0.6767 - val_accuracy: 0.7854\n",
            "Epoch 101/300\n",
            "51/51 - 2s - loss: 0.4267 - accuracy: 0.8524 - val_loss: 0.6435 - val_accuracy: 0.7976\n",
            "Epoch 102/300\n",
            "51/51 - 2s - loss: 0.4535 - accuracy: 0.8356 - val_loss: 0.6245 - val_accuracy: 0.7902\n",
            "Epoch 103/300\n",
            "51/51 - 2s - loss: 0.4306 - accuracy: 0.8468 - val_loss: 0.5572 - val_accuracy: 0.8244\n",
            "Epoch 104/300\n",
            "51/51 - 2s - loss: 0.4688 - accuracy: 0.8418 - val_loss: 0.6745 - val_accuracy: 0.7829\n",
            "Epoch 105/300\n",
            "51/51 - 2s - loss: 0.4177 - accuracy: 0.8487 - val_loss: 0.5318 - val_accuracy: 0.8268\n",
            "Epoch 106/300\n",
            "51/51 - 2s - loss: 0.4328 - accuracy: 0.8474 - val_loss: 0.6291 - val_accuracy: 0.7878\n",
            "Epoch 107/300\n",
            "51/51 - 2s - loss: 0.4308 - accuracy: 0.8512 - val_loss: 0.6910 - val_accuracy: 0.7683\n",
            "Epoch 108/300\n",
            "51/51 - 2s - loss: 0.4243 - accuracy: 0.8605 - val_loss: 0.6208 - val_accuracy: 0.8049\n",
            "Epoch 109/300\n",
            "51/51 - 2s - loss: 0.4340 - accuracy: 0.8480 - val_loss: 0.5994 - val_accuracy: 0.8146\n",
            "Epoch 110/300\n",
            "51/51 - 2s - loss: 0.4249 - accuracy: 0.8555 - val_loss: 0.6448 - val_accuracy: 0.7902\n",
            "Epoch 111/300\n",
            "51/51 - 2s - loss: 0.4082 - accuracy: 0.8655 - val_loss: 0.5766 - val_accuracy: 0.8244\n",
            "Epoch 112/300\n",
            "51/51 - 2s - loss: 0.4581 - accuracy: 0.8400 - val_loss: 0.6107 - val_accuracy: 0.8122\n",
            "Epoch 113/300\n",
            "51/51 - 2s - loss: 0.4124 - accuracy: 0.8456 - val_loss: 0.6987 - val_accuracy: 0.7854\n",
            "Epoch 114/300\n",
            "51/51 - 2s - loss: 0.4159 - accuracy: 0.8493 - val_loss: 0.5815 - val_accuracy: 0.8024\n",
            "Epoch 115/300\n",
            "51/51 - 2s - loss: 0.3989 - accuracy: 0.8531 - val_loss: 0.6321 - val_accuracy: 0.8073\n",
            "Epoch 116/300\n",
            "51/51 - 2s - loss: 0.4260 - accuracy: 0.8474 - val_loss: 0.6632 - val_accuracy: 0.7927\n",
            "Epoch 117/300\n",
            "51/51 - 2s - loss: 0.3834 - accuracy: 0.8692 - val_loss: 0.5975 - val_accuracy: 0.8073\n",
            "Epoch 118/300\n",
            "51/51 - 2s - loss: 0.4392 - accuracy: 0.8443 - val_loss: 0.6556 - val_accuracy: 0.8049\n",
            "Epoch 119/300\n",
            "51/51 - 2s - loss: 0.4068 - accuracy: 0.8580 - val_loss: 0.5992 - val_accuracy: 0.8000\n",
            "Epoch 120/300\n",
            "51/51 - 2s - loss: 0.3898 - accuracy: 0.8611 - val_loss: 0.5982 - val_accuracy: 0.8122\n",
            "Epoch 121/300\n",
            "51/51 - 2s - loss: 0.3959 - accuracy: 0.8655 - val_loss: 0.6679 - val_accuracy: 0.7854\n",
            "Epoch 122/300\n",
            "51/51 - 2s - loss: 0.4052 - accuracy: 0.8562 - val_loss: 0.5622 - val_accuracy: 0.8341\n",
            "Epoch 123/300\n",
            "51/51 - 2s - loss: 0.4017 - accuracy: 0.8580 - val_loss: 0.5944 - val_accuracy: 0.8098\n",
            "Epoch 124/300\n",
            "51/51 - 2s - loss: 0.3880 - accuracy: 0.8786 - val_loss: 0.5619 - val_accuracy: 0.8195\n",
            "Epoch 125/300\n",
            "51/51 - 2s - loss: 0.3962 - accuracy: 0.8630 - val_loss: 0.6081 - val_accuracy: 0.8000\n",
            "Epoch 126/300\n",
            "51/51 - 2s - loss: 0.3714 - accuracy: 0.8692 - val_loss: 0.4982 - val_accuracy: 0.8390\n",
            "Epoch 127/300\n",
            "51/51 - 2s - loss: 0.4128 - accuracy: 0.8555 - val_loss: 0.6147 - val_accuracy: 0.8146\n",
            "Epoch 128/300\n",
            "51/51 - 2s - loss: 0.3629 - accuracy: 0.8636 - val_loss: 0.6443 - val_accuracy: 0.8220\n",
            "Epoch 129/300\n",
            "51/51 - 2s - loss: 0.4200 - accuracy: 0.8512 - val_loss: 0.6155 - val_accuracy: 0.8171\n",
            "Epoch 130/300\n",
            "51/51 - 2s - loss: 0.3769 - accuracy: 0.8699 - val_loss: 0.7117 - val_accuracy: 0.7683\n"
          ],
          "name": "stdout"
        }
      ]
    },
    {
      "cell_type": "markdown",
      "metadata": {
        "id": "TLIg272APzui",
        "colab_type": "text"
      },
      "source": [
        "#### 모델의 학습과정과 val_accuray의 변화"
      ]
    },
    {
      "cell_type": "code",
      "metadata": {
        "scrolled": false,
        "id": "2ZpIPm9jPzui",
        "colab_type": "code",
        "colab": {},
        "outputId": "7a471241-9221-4763-fdec-60e2d7937bed"
      },
      "source": [
        "acc = history.history['accuracy']\n",
        "val_acc = history.history['val_accuracy']\n",
        "loss = history.history['loss']\n",
        "val_loss = history.history['val_loss']\n",
        "\n",
        "epochs = range(1, len(acc) + 1)\n",
        "\n",
        "plt.plot(epochs, acc, 'b', label='Training acc')\n",
        "plt.plot(epochs, val_acc, 'bo', label='Validation acc')\n",
        "plt.title('Training and Validation Accuracy')\n",
        "plt.legend()\n",
        "\n",
        "plt.figure()\n",
        "\n",
        "plt.plot(epochs, loss, 'b', label='Training loss')\n",
        "plt.plot(epochs, val_loss, 'bo', label='Validation loss')\n",
        "plt.title('Training and Validation Loss')\n",
        "plt.legend()\n",
        "\n",
        "plt.show()"
      ],
      "execution_count": null,
      "outputs": [
        {
          "output_type": "display_data",
          "data": {
            "image/png": "[encoded data removed]",
            "text/plain": [
              "<Figure size 432x288 with 1 Axes>"
            ]
          },
          "metadata": {
            "tags": [],
            "needs_background": "light"
          }
        },
        {
          "output_type": "display_data",
          "data": {
            "image/png": "[encoded data removed]",
            "text/plain": [
              "<Figure size 432x288 with 1 Axes>"
            ]
          },
          "metadata": {
            "tags": [],
            "needs_background": "light"
          }
        }
      ]
    },
    {
      "cell_type": "markdown",
      "metadata": {
        "id": "GtfzgsjPPzum",
        "colab_type": "text"
      },
      "source": [
        "### test데이터를 통한 모델의 정확도 검증\n",
        " 초기(08.01) : 0.72 (72%) 로 시작\\\n",
        " 마지막(08.15) : 0.86 (86%) 까지 증가"
      ]
    },
    {
      "cell_type": "code",
      "metadata": {
        "id": "alb4KnbiPzun",
        "colab_type": "code",
        "colab": {}
      },
      "source": [
        "test=pd.read_csv(\"C:\\\\Users\\\\Chunghun\\\\Desktop\\\\data\\\\test.csv\")"
      ],
      "execution_count": null,
      "outputs": []
    },
    {
      "cell_type": "code",
      "metadata": {
        "id": "IIy7U2n2Pzuq",
        "colab_type": "code",
        "colab": {},
        "outputId": "f5db541e-ba1f-4d66-a0b0-eab6404bf49d"
      },
      "source": [
        "bestmodel = keras.models.load_model('best_model1.h5')\n",
        "bestmodel.summary()"
      ],
      "execution_count": null,
      "outputs": [
        {
          "output_type": "stream",
          "text": [
            "Model: \"sequential\"\n",
            "_________________________________________________________________\n",
            "Layer (type)                 Output Shape              Param #   \n",
            "=================================================================\n",
            "conv2d (Conv2D)              (None, 28, 28, 32)        320       \n",
            "_________________________________________________________________\n",
            "max_pooling2d (MaxPooling2D) (None, 14, 14, 32)        0         \n",
            "_________________________________________________________________\n",
            "conv2d_1 (Conv2D)            (None, 14, 14, 64)        18496     \n",
            "_________________________________________________________________\n",
            "max_pooling2d_1 (MaxPooling2 (None, 7, 7, 64)          0         \n",
            "_________________________________________________________________\n",
            "conv2d_2 (Conv2D)            (None, 5, 5, 128)         73856     \n",
            "_________________________________________________________________\n",
            "max_pooling2d_2 (MaxPooling2 (None, 2, 2, 128)         0         \n",
            "_________________________________________________________________\n",
            "dropout (Dropout)            (None, 2, 2, 128)         0         \n",
            "_________________________________________________________________\n",
            "flatten (Flatten)            (None, 512)               0         \n",
            "_________________________________________________________________\n",
            "dense (Dense)                (None, 512)               262656    \n",
            "_________________________________________________________________\n",
            "dense_1 (Dense)              (None, 256)               131328    \n",
            "_________________________________________________________________\n",
            "dense_2 (Dense)              (None, 128)               32896     \n",
            "_________________________________________________________________\n",
            "dense_3 (Dense)              (None, 10)                1290      \n",
            "=================================================================\n",
            "Total params: 520,842\n",
            "Trainable params: 520,842\n",
            "Non-trainable params: 0\n",
            "_________________________________________________________________\n"
          ],
          "name": "stdout"
        }
      ]
    },
    {
      "cell_type": "code",
      "metadata": {
        "id": "L00uGO1qPzux",
        "colab_type": "code",
        "colab": {},
        "outputId": "7b98c8af-a215-4178-f92a-9fdaf85ec68f"
      },
      "source": [
        "x_test = np.array(test.iloc[:, 2:]).reshape(-1, 28, 28, 1).astype(np.float)\n",
        "x_test /= 255.\n",
        "print(x_test.shape)\n",
        "pred = bestmodel.predict(x_test)\n",
        "pred = np.argmax(pred, axis=1)\n",
        "print(pred.shape)"
      ],
      "execution_count": null,
      "outputs": [
        {
          "output_type": "stream",
          "text": [
            "(20480, 28, 28, 1)\n",
            "(20480,)\n"
          ],
          "name": "stdout"
        }
      ]
    },
    {
      "cell_type": "code",
      "metadata": {
        "id": "aHtgC3__Pzu1",
        "colab_type": "code",
        "colab": {},
        "outputId": "43e9e9ac-dc1b-49be-9279-b0aed5045518"
      },
      "source": [
        "pred"
      ],
      "execution_count": null,
      "outputs": [
        {
          "output_type": "execute_result",
          "data": {
            "text/plain": [
              "array([6, 8, 8, ..., 6, 8, 0], dtype=int64)"
            ]
          },
          "metadata": {
            "tags": []
          },
          "execution_count": 32
        }
      ]
    },
    {
      "cell_type": "code",
      "metadata": {
        "id": "HgBGoVQLPzu5",
        "colab_type": "code",
        "colab": {}
      },
      "source": [
        "submission=pd.read_csv(\"C:\\\\Users\\\\Chunghun\\\\Desktop\\\\data\\\\submission.csv\",index_col=0)"
      ],
      "execution_count": null,
      "outputs": []
    },
    {
      "cell_type": "code",
      "metadata": {
        "id": "3z0BzRb7Pzu8",
        "colab_type": "code",
        "colab": {},
        "outputId": "b0d94350-7652-4755-aef0-318b696872cd"
      },
      "source": [
        "submission.digit = pred\n",
        "submission.head()"
      ],
      "execution_count": null,
      "outputs": [
        {
          "output_type": "execute_result",
          "data": {
            "text/html": [
              "<div>\n",
              "<style scoped>\n",
              "    .dataframe tbody tr th:only-of-type {\n",
              "        vertical-align: middle;\n",
              "    }\n",
              "\n",
              "    .dataframe tbody tr th {\n",
              "        vertical-align: top;\n",
              "    }\n",
              "\n",
              "    .dataframe thead th {\n",
              "        text-align: right;\n",
              "    }\n",
              "</style>\n",
              "<table border=\"1\" class=\"dataframe\">\n",
              "  <thead>\n",
              "    <tr style=\"text-align: right;\">\n",
              "      <th></th>\n",
              "      <th>digit</th>\n",
              "    </tr>\n",
              "    <tr>\n",
              "      <th>id</th>\n",
              "      <th></th>\n",
              "    </tr>\n",
              "  </thead>\n",
              "  <tbody>\n",
              "    <tr>\n",
              "      <th>2049</th>\n",
              "      <td>6</td>\n",
              "    </tr>\n",
              "    <tr>\n",
              "      <th>2050</th>\n",
              "      <td>8</td>\n",
              "    </tr>\n",
              "    <tr>\n",
              "      <th>2051</th>\n",
              "      <td>8</td>\n",
              "    </tr>\n",
              "    <tr>\n",
              "      <th>2052</th>\n",
              "      <td>0</td>\n",
              "    </tr>\n",
              "    <tr>\n",
              "      <th>2053</th>\n",
              "      <td>3</td>\n",
              "    </tr>\n",
              "  </tbody>\n",
              "</table>\n",
              "</div>"
            ],
            "text/plain": [
              "      digit\n",
              "id         \n",
              "2049      6\n",
              "2050      8\n",
              "2051      8\n",
              "2052      0\n",
              "2053      3"
            ]
          },
          "metadata": {
            "tags": []
          },
          "execution_count": 34
        }
      ]
    },
    {
      "cell_type": "code",
      "metadata": {
        "id": "G-pFutsuPzu_",
        "colab_type": "code",
        "colab": {}
      },
      "source": [
        "submission.to_csv(\"C:\\\\Users\\\\Chunghun\\\\Desktop\\\\data\\\\submission1.csv\")"
      ],
      "execution_count": null,
      "outputs": []
    },
    {
      "cell_type": "markdown",
      "metadata": {
        "id": "H_iEafoRPzvC",
        "colab_type": "text"
      },
      "source": [
        "#### 이전 좋은 정확도를 보여줬던 모델들의 형태 기록 및 갱신\n",
        "- 앙상블을 통한 Voting 이 좋은 정확도를 보여줬었음"
      ]
    },
    {
      "cell_type": "code",
      "metadata": {
        "scrolled": true,
        "id": "IHgfdcoiPzvD",
        "colab_type": "code",
        "colab": {},
        "outputId": "e90f7b47-a2c8-4bdd-d224-22c16d48b10b"
      },
      "source": [
        "'''\n",
        "#best model5 = adam #val_accuracy = 0.8098 # batch size=32\n",
        "model = keras.Sequential()\n",
        "model.add(layers.Conv2D(32, kernel_size=3,padding='same', activation='relu',\n",
        "                        input_shape=x_train.shape[1:]))\n",
        "model.add(layers.MaxPooling2D((2,2)))\n",
        "model.add(layers.Conv2D(64, kernel_size=3,padding='same', activation='relu'))\n",
        "model.add(layers.MaxPooling2D((2,2)))\n",
        "model.add(layers.Conv2D(128, kernel_size=3,padding='valid', activation='relu'))\n",
        "model.add(layers.MaxPooling2D((2,2)))\n",
        "model.add(layers.Dropout(0.1))\n",
        "model.add(layers.Flatten())\n",
        "model.add(layers.Dense(512, activation='relu'))\n",
        "model.add(layers.Dense(256, activation='relu'))\n",
        "model.add(layers.Dense(128, activation='relu'))\n",
        "model.add(layers.Dense(y_train.shape[1], activation='softmax'))\n",
        "model.summary()\n",
        "\n",
        "#best model1= adam \n",
        "Epoch 90/300\n",
        "51/51 - 2s - loss: 0.4684 - accuracy: 0.8275 - val_loss: 0.4848 - val_accuracy: 0.8683\n",
        "model = keras.Sequential()\n",
        "model.add(layers.Conv2D(32, kernel_size=3,padding='same', activation='relu',\n",
        "                        input_shape=x_train.shape[1:]))\n",
        "model.add(layers.MaxPooling2D((2,2)))\n",
        "model.add(layers.Conv2D(64, kernel_size=3,padding='same', activation='relu'))\n",
        "model.add(layers.MaxPooling2D((2,2)))\n",
        "model.add(layers.Conv2D(128, kernel_size=3,padding='same', activation='relu'))\n",
        "model.add(layers.MaxPooling2D((2,2)))\n",
        "model.add(layers.Dropout(0.5))\n",
        "model.add(layers.Flatten())\n",
        "model.add(layers.Dense(512, activation='relu'))\n",
        "model.add(layers.Dense(256, activation='relu'))\n",
        "model.add(layers.Dense(128, activation='relu'))\n",
        "model.add(layers.Dense(y_train.shape[1], activation='softmax'))\n",
        "model.summary()\n",
        "\n",
        "'''\n",
        "\n"
      ],
      "execution_count": null,
      "outputs": [
        {
          "output_type": "execute_result",
          "data": {
            "text/plain": [
              "\"\\n#best model5 = adam #val_accuracy = 0.8098 # batch size=32\\nmodel = keras.Sequential()\\nmodel.add(layers.Conv2D(32, kernel_size=3,padding='same', activation='relu',\\n                        input_shape=x_train.shape[1:]))\\nmodel.add(layers.MaxPooling2D((2,2)))\\nmodel.add(layers.Conv2D(64, kernel_size=3,padding='same', activation='relu'))\\nmodel.add(layers.MaxPooling2D((2,2)))\\nmodel.add(layers.Conv2D(128, kernel_size=3,padding='valid', activation='relu'))\\nmodel.add(layers.MaxPooling2D((2,2)))\\nmodel.add(layers.Dropout(0.1))\\nmodel.add(layers.Flatten())\\nmodel.add(layers.Dense(512, activation='relu'))\\nmodel.add(layers.Dense(256, activation='relu'))\\nmodel.add(layers.Dense(128, activation='relu'))\\nmodel.add(layers.Dense(y_train.shape[1], activation='softmax'))\\nmodel.summary()\\n\""
            ]
          },
          "metadata": {
            "tags": []
          },
          "execution_count": 36
        }
      ]
    },
    {
      "cell_type": "code",
      "metadata": {
        "id": "a0q7MbDiPzvG",
        "colab_type": "code",
        "colab": {}
      },
      "source": [
        ""
      ],
      "execution_count": null,
      "outputs": []
    }
  ]
}